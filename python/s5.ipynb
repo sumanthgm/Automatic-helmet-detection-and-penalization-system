{
  "cells": [
    {
      "cell_type": "markdown",
      "metadata": {
        "id": "view-in-github",
        "colab_type": "text"
      },
      "source": [
        "<a href=\"https://colab.research.google.com/github/sumanthgm/Automatic-helmet-detection-and-penalization-system/blob/main/python/s5.ipynb\" target=\"_parent\"><img src=\"https://colab.research.google.com/assets/colab-badge.svg\" alt=\"Open In Colab\"/></a>"
      ]
    },
    {
      "cell_type": "markdown",
      "metadata": {
        "id": "uHFiXgtpf9mk"
      },
      "source": [
        "<table align=\"left\" width=100%>\n",
        "    <tr>\n",
        "        <td width=\"20%\">\n",
        "            <img src=\"faculty.png\">\n",
        "        </td>\n",
        "        <td>\n",
        "            <div align=\"center\">\n",
        "                <font color=\"#21618C\" size=8px>\n",
        "                  <b> Faculty Notebook <br> (Session 5) </b>\n",
        "                </font>\n",
        "            </div>\n",
        "        </td>\n",
        "    </tr>\n",
        "</table>"
      ]
    },
    {
      "cell_type": "code",
      "source": [
        "from google.colab import drive\n",
        "drive.mount('/content/drive')"
      ],
      "metadata": {
        "id": "LC2eGbqogYdj"
      },
      "execution_count": null,
      "outputs": []
    },
    {
      "cell_type": "markdown",
      "metadata": {
        "id": "sjC22Xt0f9mm"
      },
      "source": [
        "## Table of Content\n",
        "\n",
        "1. **[Pandas](#pandas)**\n",
        "\n",
        "2. **[Data Structures](#structures)**\n",
        "    \n",
        "3. **[Pandas Series](#series)**\n",
        "    - 3.1 - [Creating a Series](#creatingS)\n",
        "    - 3.2 - [Manipulating Series](#manipulatingS)\n",
        "\n",
        "4. **[Pandas DataFrames](#dataframes)**\n",
        "    - 4.1 - [Creating DataFrames](#creatingDF)\n",
        "    - 4.2 - [Manipulating DataFrames](#manipulatingDF)\n",
        "\n",
        "5. **[Reading Data from Different Sources](#reading_data)**\n"
      ]
    },
    {
      "cell_type": "markdown",
      "metadata": {
        "id": "6bzTb7v9f9mm"
      },
      "source": [
        "<a id=\"pandas\"> </a>\n",
        "## 1. Pandas"
      ]
    },
    {
      "cell_type": "markdown",
      "metadata": {
        "id": "Yu7KzYXMf9mm"
      },
      "source": [
        "<table align=\"left\">\n",
        "    <tr>\n",
        "        <td width=\"15%\">\n",
        "            <img src=\"note.png\">\n",
        "        </td>\n",
        "        <td>\n",
        "            <div align=\"left\", style=\"font-size:120%\">\n",
        "                <font color=\"#21618C\">\n",
        "                    <b> Pandas contain data structures and data manipulation tools designed for data cleaning and analysis.\n",
        "<br><br>\n",
        "                        While pandas adopt many coding idioms from NumPy, the biggest difference is that pandas is designed for working with tabular or heterogeneous data. NumPy, by contrast, is best suited for working with homogeneous numerical array data.<br><br>\n",
        "                         The name Pandas is derived from the term “panel data”, an econometrics term for multidimensional structured data sets.\n",
        "                    </b>\n",
        "                </font>\n",
        "            </div>\n",
        "        </td>\n",
        "    </tr>\n",
        "</table>"
      ]
    },
    {
      "cell_type": "markdown",
      "metadata": {
        "id": "_mG0TpZHf9mn"
      },
      "source": [
        "**How to install pandas?**<br>\n",
        "1. You can use-<br>\n",
        "`!pip install pandas`<br>\n",
        "2. You can import it as-<br>\n",
        "import pandas as pd"
      ]
    },
    {
      "cell_type": "markdown",
      "metadata": {
        "id": "dv8IcKeGf9mn"
      },
      "source": [
        "To import the pandas library the following convention is used"
      ]
    },
    {
      "cell_type": "code",
      "execution_count": null,
      "metadata": {
        "id": "6jsA81MRf9mn"
      },
      "outputs": [],
      "source": [
        "import pandas as pd"
      ]
    },
    {
      "cell_type": "markdown",
      "metadata": {
        "id": "OU4TLbMOf9mo"
      },
      "source": [
        "So from now on we will use `pd.` instead of pandas."
      ]
    },
    {
      "cell_type": "markdown",
      "metadata": {
        "id": "sisDE8VVf9mo"
      },
      "source": [
        "<a id=\"structures\"> </a>\n",
        "## 2. Data Structures"
      ]
    },
    {
      "cell_type": "markdown",
      "metadata": {
        "id": "frBY3UAAf9mo"
      },
      "source": [
        "Pandas has two data structures as follows:<br>\n",
        "1. A Series is 1-dimensional labeled array that can hold data of any type (integer, string, boolean, float, python objects, and so on). It’s axis labels are collectively called an index.<br>\n",
        "2. A DataFrame is 2-dimensional labeled data structure with columns. It supports multiple datatypes.\n",
        "  "
      ]
    },
    {
      "cell_type": "markdown",
      "metadata": {
        "id": "QSUJHgaGf9mo"
      },
      "source": [
        "<a id=\"series\"> </a>\n",
        "## 3. Pandas Series"
      ]
    },
    {
      "cell_type": "markdown",
      "metadata": {
        "id": "kyaOd234f9mo"
      },
      "source": [
        "<table align=\"left\">\n",
        "    <tr>\n",
        "        <td width=\"15%\">\n",
        "            <img src=\"note.png\">\n",
        "        </td>\n",
        "        <td>\n",
        "            <div align=\"left\", style=\"font-size:120%\">\n",
        "                <font color=\"#21618C\">\n",
        "                    <b> Pandas Series is a one-dimensional labeled array capable of holding any data type. However, a series is a sequence of homogeneous data types, similar to an array, list, or column in a table.<br><br>\n",
        "                        It will assign a labeled index to each item in the Series. By default, each item will receive an index label from 0 to N, where N is the length of the Series minus one.\n",
        "<br><br>\n",
        "                    </b>\n",
        "                </font>\n",
        "            </div>\n",
        "        </td>\n",
        "    </tr>\n",
        "</table>"
      ]
    },
    {
      "cell_type": "markdown",
      "metadata": {
        "id": "QY2RiayXf9mp"
      },
      "source": [
        "<a id=\"creatingS\"> </a>\n",
        "### 3.1 Creating a Series"
      ]
    },
    {
      "cell_type": "markdown",
      "metadata": {
        "id": "MW19Siknf9mp"
      },
      "source": [
        "**1. To create a numeric series**"
      ]
    },
    {
      "cell_type": "code",
      "execution_count": null,
      "metadata": {
        "id": "x2CEEJ6wf9mp",
        "outputId": "802846d5-909d-4100-c72b-9bad9846595c"
      },
      "outputs": [
        {
          "data": {
            "text/plain": [
              "0      1\n",
              "1      6\n",
              "2     11\n",
              "3     16\n",
              "4     21\n",
              "5     26\n",
              "6     31\n",
              "7     36\n",
              "8     41\n",
              "9     46\n",
              "10    51\n",
              "11    56\n",
              "12    61\n",
              "13    66\n",
              "14    71\n",
              "15    76\n",
              "16    81\n",
              "17    86\n",
              "18    91\n",
              "19    96\n",
              "dtype: int64"
            ]
          },
          "execution_count": 2,
          "metadata": {},
          "output_type": "execute_result"
        }
      ],
      "source": [
        "# create a numeric series\n",
        "numbers = range(1,100,5)\n",
        "pd.Series(numbers)"
      ]
    },
    {
      "cell_type": "markdown",
      "metadata": {
        "id": "aCs1AXNJf9mp"
      },
      "source": [
        "The output also gives the data type of the series as `int64`\n",
        "\n",
        "And note that by default, each item will receive an index label from 0 to N, where N is the length of the Series minus one."
      ]
    },
    {
      "cell_type": "markdown",
      "metadata": {
        "id": "Amnb6vrof9mp"
      },
      "source": [
        "<b>*In python, the row names are called 'index'*</b>"
      ]
    },
    {
      "cell_type": "markdown",
      "metadata": {
        "id": "VcyupLu3f9mp"
      },
      "source": [
        "**2. To create an object series**"
      ]
    },
    {
      "cell_type": "code",
      "execution_count": null,
      "metadata": {
        "id": "tmoxywSYf9mp",
        "outputId": "44ad63a1-3f08-4db3-cd54-ec7cd946dfc3"
      },
      "outputs": [
        {
          "data": {
            "text/plain": [
              "0     Hi\n",
              "1    How\n",
              "2    are\n",
              "3    you\n",
              "4      ?\n",
              "dtype: object"
            ]
          },
          "execution_count": 3,
          "metadata": {},
          "output_type": "execute_result"
        }
      ],
      "source": [
        "# create a object series\n",
        "string = \"Hi\" , \"How\" ,\"are\", \"you\", \"?\"\n",
        "pd.Series(string)"
      ]
    },
    {
      "cell_type": "markdown",
      "metadata": {
        "id": "qK4qFH6if9mq"
      },
      "source": [
        "The output gives the data type of the series as `object`"
      ]
    },
    {
      "cell_type": "markdown",
      "metadata": {
        "id": "pykKat0Df9mq"
      },
      "source": [
        "**3. To create a series by giving both numeric and string values**"
      ]
    },
    {
      "cell_type": "code",
      "execution_count": null,
      "metadata": {
        "id": "M_ePC7R7f9mq",
        "outputId": "45a37a34-8305-48e9-e484-6ebff56f1346"
      },
      "outputs": [
        {
          "data": {
            "text/plain": [
              "0               345\n",
              "1            London\n",
              "2              34.5\n",
              "3            -34.45\n",
              "4    Happy Birthday\n",
              "dtype: object"
            ]
          },
          "execution_count": 4,
          "metadata": {},
          "output_type": "execute_result"
        }
      ],
      "source": [
        "# create a Series with an arbitrary list\n",
        "s = pd.Series([345, 'London', 34.5, -34.45, 'Happy Birthday'])\n",
        "s"
      ]
    },
    {
      "cell_type": "markdown",
      "metadata": {
        "id": "dE3JTjNlf9mq"
      },
      "source": [
        "Here the numeric values are treated as object."
      ]
    },
    {
      "cell_type": "markdown",
      "metadata": {
        "id": "dovFOlcBf9mq"
      },
      "source": [
        "**4. To set index values for a series**"
      ]
    },
    {
      "cell_type": "code",
      "execution_count": null,
      "metadata": {
        "id": "fNEKeYzhf9mq",
        "outputId": "f760d49f-d29d-4901-df0e-7cf93f683d66"
      },
      "outputs": [
        {
          "data": {
            "text/plain": [
              "Maths             60\n",
              "Science           89\n",
              "English           74\n",
              "Social Science    86\n",
              "dtype: int64"
            ]
          },
          "execution_count": 5,
          "metadata": {},
          "output_type": "execute_result"
        }
      ],
      "source": [
        "marks = [60, 89, 74, 86]\n",
        "\n",
        "subject = [\"Maths\", \"Science\", \"English\" , \"Social Science\"]\n",
        "\n",
        "pd.Series(marks, index = subject)\n"
      ]
    },
    {
      "cell_type": "markdown",
      "metadata": {
        "id": "L__2WPsef9mr"
      },
      "source": [
        "The index is added using the argument `index=`. The data type of the series continues to be numeric."
      ]
    },
    {
      "cell_type": "markdown",
      "metadata": {
        "id": "eXFuUu5Wf9mr"
      },
      "source": [
        "**5. To create a series from a dictionary**"
      ]
    },
    {
      "cell_type": "code",
      "execution_count": null,
      "metadata": {
        "colab": {
          "base_uri": "https://localhost:8080/",
          "height": 209
        },
        "id": "PMx5FLICf9mr",
        "outputId": "156cc2b5-2445-4cac-c347-e57a2de832ec"
      },
      "outputs": [
        {
          "output_type": "execute_result",
          "data": {
            "text/plain": [
              "Maths             60\n",
              "Science           89\n",
              "English           76\n",
              "Social Science    86\n",
              "dtype: int64"
            ],
            "text/html": [
              "<div>\n",
              "<style scoped>\n",
              "    .dataframe tbody tr th:only-of-type {\n",
              "        vertical-align: middle;\n",
              "    }\n",
              "\n",
              "    .dataframe tbody tr th {\n",
              "        vertical-align: top;\n",
              "    }\n",
              "\n",
              "    .dataframe thead th {\n",
              "        text-align: right;\n",
              "    }\n",
              "</style>\n",
              "<table border=\"1\" class=\"dataframe\">\n",
              "  <thead>\n",
              "    <tr style=\"text-align: right;\">\n",
              "      <th></th>\n",
              "      <th>0</th>\n",
              "    </tr>\n",
              "  </thead>\n",
              "  <tbody>\n",
              "    <tr>\n",
              "      <th>Maths</th>\n",
              "      <td>60</td>\n",
              "    </tr>\n",
              "    <tr>\n",
              "      <th>Science</th>\n",
              "      <td>89</td>\n",
              "    </tr>\n",
              "    <tr>\n",
              "      <th>English</th>\n",
              "      <td>76</td>\n",
              "    </tr>\n",
              "    <tr>\n",
              "      <th>Social Science</th>\n",
              "      <td>86</td>\n",
              "    </tr>\n",
              "  </tbody>\n",
              "</table>\n",
              "</div><br><label><b>dtype:</b> int64</label>"
            ]
          },
          "metadata": {},
          "execution_count": 4
        }
      ],
      "source": [
        "data = {'Maths': 60, 'Science': 89, 'English': 76, 'Social Science': 86}\n",
        "\n",
        "pd.Series(data)"
      ]
    },
    {
      "cell_type": "markdown",
      "metadata": {
        "id": "AsMPs_Z4f9mr"
      },
      "source": [
        "On passing a dict, the index in the resulting Series will have the dict’s keys in sorted order."
      ]
    },
    {
      "cell_type": "markdown",
      "metadata": {
        "id": "vlRKdjkdf9mr"
      },
      "source": [
        "**6. To create a series using library `numpy`**"
      ]
    },
    {
      "cell_type": "code",
      "execution_count": null,
      "metadata": {
        "id": "oXopWH95f9mr",
        "outputId": "c8ce294c-af4f-41a9-fd5e-f9c77c25c659"
      },
      "outputs": [
        {
          "data": {
            "text/plain": [
              "array([ 0. ,  2.5,  5. ,  7.5, 10. ])"
            ]
          },
          "execution_count": 7,
          "metadata": {},
          "output_type": "execute_result"
        }
      ],
      "source": [
        "import numpy as np\n",
        "s = np.linspace(0,10, 5)\n",
        "s"
      ]
    },
    {
      "cell_type": "markdown",
      "metadata": {
        "id": "lyzQ-W4nf9mr"
      },
      "source": [
        "We see that we obtain an array. We can now convert it to a Series."
      ]
    },
    {
      "cell_type": "code",
      "execution_count": null,
      "metadata": {
        "id": "DaFXyX6lf9mr",
        "outputId": "4b6ebb08-5b80-42cc-ec6c-10e9c49d18e3"
      },
      "outputs": [
        {
          "data": {
            "text/plain": [
              "0     0.0\n",
              "1     2.5\n",
              "2     5.0\n",
              "3     7.5\n",
              "4    10.0\n",
              "dtype: float64"
            ]
          },
          "execution_count": 8,
          "metadata": {},
          "output_type": "execute_result"
        }
      ],
      "source": [
        "pd.Series(s)"
      ]
    },
    {
      "cell_type": "markdown",
      "metadata": {
        "id": "-0d6Kvfyf9ms"
      },
      "source": [
        "**7. A series with missing values**\n",
        "\n",
        "If we pass a key that is not defined then its value will be `NAN`."
      ]
    },
    {
      "cell_type": "code",
      "execution_count": null,
      "metadata": {
        "colab": {
          "base_uri": "https://localhost:8080/"
        },
        "id": "YQFnpCkEf9ms",
        "outputId": "6b932886-d1e8-47c0-ddbe-215698021540"
      },
      "outputs": [
        {
          "output_type": "stream",
          "name": "stdout",
          "text": [
            "Maths             60.0\n",
            "Science           89.0\n",
            "Art and Craft      NaN\n",
            "Social Science    86.0\n",
            "dtype: float64\n"
          ]
        }
      ],
      "source": [
        "subjects = [\"Maths\", \"Science\", \"Art and Craft\" , \"Social Science\"]\n",
        "\n",
        "marks_series = pd.Series(data, index = subjects)\n",
        "\n",
        "print(marks_series)"
      ]
    },
    {
      "cell_type": "markdown",
      "metadata": {
        "id": "24A0PJ3Cf9ms"
      },
      "source": [
        "<a id=\"manipulatingS\"> </a>\n",
        "### 3.2 Manipulating Series"
      ]
    },
    {
      "cell_type": "markdown",
      "metadata": {
        "id": "1WlraHmWf9ms"
      },
      "source": [
        "**1. To check for null values using `.isnull`**"
      ]
    },
    {
      "cell_type": "code",
      "execution_count": null,
      "metadata": {
        "id": "KzFS7wXGf9ms",
        "outputId": "70da9493-a3b7-4e30-d25f-205520ed37e8"
      },
      "outputs": [
        {
          "data": {
            "text/plain": [
              "Maths             False\n",
              "Science           False\n",
              "Art and Craft      True\n",
              "Social Science    False\n",
              "dtype: bool"
            ]
          },
          "execution_count": 10,
          "metadata": {},
          "output_type": "execute_result"
        }
      ],
      "source": [
        "marks_series.isnull()"
      ]
    },
    {
      "cell_type": "markdown",
      "metadata": {
        "id": "MXUM6gI4f9ms"
      },
      "source": [
        "`False` indicates that the value is not null."
      ]
    },
    {
      "cell_type": "markdown",
      "metadata": {
        "id": "FxpEGRh_f9mt"
      },
      "source": [
        "**2. To check for null values using `.notnull`**"
      ]
    },
    {
      "cell_type": "code",
      "execution_count": null,
      "metadata": {
        "id": "Vp6RJSG7f9mt",
        "outputId": "1159a1ca-0b50-4524-e54b-ecc0259e9674"
      },
      "outputs": [
        {
          "data": {
            "text/plain": [
              "Maths              True\n",
              "Science            True\n",
              "Art and Craft     False\n",
              "Social Science     True\n",
              "dtype: bool"
            ]
          },
          "execution_count": 11,
          "metadata": {},
          "output_type": "execute_result"
        }
      ],
      "source": [
        "marks_series.notnull()"
      ]
    },
    {
      "cell_type": "markdown",
      "metadata": {
        "id": "B6dehCICf9mu"
      },
      "source": [
        "` True` indicates that the value is not null."
      ]
    },
    {
      "cell_type": "markdown",
      "metadata": {
        "id": "D6WDe9Ndf9mu"
      },
      "source": [
        "**3. To know the subjects in which marks score is more than 75**"
      ]
    },
    {
      "cell_type": "code",
      "execution_count": null,
      "metadata": {
        "id": "A-ihSFCsf9mu",
        "outputId": "c1160ca6-6aea-40a0-8221-58999d31c29b"
      },
      "outputs": [
        {
          "data": {
            "text/plain": [
              "Science           89.0\n",
              "Social Science    86.0\n",
              "dtype: float64"
            ]
          },
          "execution_count": 12,
          "metadata": {},
          "output_type": "execute_result"
        }
      ],
      "source": [
        "marks_series[marks_series > 75]"
      ]
    },
    {
      "cell_type": "markdown",
      "metadata": {
        "id": "mHhLV5Wkf9mu"
      },
      "source": [
        "**4. To assign 68 marks to 'Art and Craft'**"
      ]
    },
    {
      "cell_type": "code",
      "execution_count": null,
      "metadata": {
        "id": "maFkJV_Rf9mu"
      },
      "outputs": [],
      "source": [
        "marks_series[\"Art and Craft\"] = 68"
      ]
    },
    {
      "cell_type": "code",
      "execution_count": null,
      "metadata": {
        "id": "9bFtlzkWf9mu",
        "outputId": "251a133c-38f1-470f-ea36-81283ba764fb"
      },
      "outputs": [
        {
          "data": {
            "text/plain": [
              "Maths             60.0\n",
              "Science           89.0\n",
              "Art and Craft     68.0\n",
              "Social Science    86.0\n",
              "dtype: float64"
            ]
          },
          "execution_count": 14,
          "metadata": {},
          "output_type": "execute_result"
        }
      ],
      "source": [
        "marks_series"
      ]
    },
    {
      "cell_type": "markdown",
      "metadata": {
        "id": "1vh3XqS2f9mu"
      },
      "source": [
        "**5. To check whether Maths marks are 73**"
      ]
    },
    {
      "cell_type": "code",
      "execution_count": null,
      "metadata": {
        "id": "2swPnWFgf9mu",
        "outputId": "66af0c3c-1642-4807-a88f-a90678bc79ea"
      },
      "outputs": [
        {
          "data": {
            "text/plain": [
              "False"
            ]
          },
          "execution_count": 15,
          "metadata": {},
          "output_type": "execute_result"
        }
      ],
      "source": [
        "marks_series.Maths == 73"
      ]
    },
    {
      "cell_type": "code",
      "execution_count": null,
      "metadata": {
        "id": "Dn9XpC0qf9mv",
        "outputId": "fbc74b57-6f22-46cc-bf73-0481eeb7650a"
      },
      "outputs": [
        {
          "data": {
            "text/plain": [
              "False"
            ]
          },
          "execution_count": 16,
          "metadata": {},
          "output_type": "execute_result"
        }
      ],
      "source": [
        "# or you may use\n",
        "\n",
        "marks_series[\"Maths\"] == 73"
      ]
    },
    {
      "cell_type": "markdown",
      "metadata": {
        "id": "3oPaEKPLf9mv"
      },
      "source": [
        "**6. To create a series by generating numpy random numbers**"
      ]
    },
    {
      "cell_type": "code",
      "execution_count": null,
      "metadata": {
        "id": "6IxHpC4Qf9mv"
      },
      "outputs": [],
      "source": [
        "import numpy as np\n",
        "num = pd.Series(np.random.random(15)*10).round()"
      ]
    },
    {
      "cell_type": "markdown",
      "metadata": {
        "id": "OiSOoRlNf9mv"
      },
      "source": [
        "**7. To find the square of the numbers series**"
      ]
    },
    {
      "cell_type": "code",
      "execution_count": null,
      "metadata": {
        "id": "Iex3xuDOf9mv",
        "outputId": "d761d3d1-227e-4051-fe0c-f5902ca6f5aa"
      },
      "outputs": [
        {
          "data": {
            "text/plain": [
              "0.0     0.0\n",
              "5.0    25.0\n",
              "8.0    64.0\n",
              "7.0    49.0\n",
              "3.0     9.0\n",
              "3.0     9.0\n",
              "7.0    49.0\n",
              "4.0    16.0\n",
              "3.0     9.0\n",
              "4.0    16.0\n",
              "6.0    36.0\n",
              "8.0    64.0\n",
              "1.0     1.0\n",
              "0.0     0.0\n",
              "2.0     4.0\n",
              "dtype: float64"
            ]
          },
          "execution_count": 18,
          "metadata": {},
          "output_type": "execute_result"
        }
      ],
      "source": [
        "square = pd.Series(num*num)\n",
        "square.index = [num]\n",
        "square"
      ]
    },
    {
      "cell_type": "markdown",
      "metadata": {
        "id": "TNZ2qOGuf9mv"
      },
      "source": [
        "**8. To assign index name and object name**"
      ]
    },
    {
      "cell_type": "code",
      "execution_count": null,
      "metadata": {
        "id": "MOOelxcLf9mv",
        "outputId": "fa236331-6892-44b1-8339-d41cef5eae3b"
      },
      "outputs": [
        {
          "data": {
            "text/plain": [
              "0.0     0.0\n",
              "5.0    25.0\n",
              "8.0    64.0\n",
              "7.0    49.0\n",
              "3.0     9.0\n",
              "3.0     9.0\n",
              "7.0    49.0\n",
              "4.0    16.0\n",
              "3.0     9.0\n",
              "4.0    16.0\n",
              "6.0    36.0\n",
              "8.0    64.0\n",
              "1.0     1.0\n",
              "0.0     0.0\n",
              "2.0     4.0\n",
              "Name: Square, dtype: float64"
            ]
          },
          "execution_count": 19,
          "metadata": {},
          "output_type": "execute_result"
        }
      ],
      "source": [
        "square.name = 'Square'\n",
        "square.index.name = 'Number'\n",
        "square"
      ]
    },
    {
      "cell_type": "markdown",
      "metadata": {
        "id": "iL2PfyPAf9mw"
      },
      "source": [
        "**Note:** A Series’s index can be altered in-place by assignment\n",
        "\n",
        "From the output, it is not clear that the index column is labeled, to check whether it is labeled let us print it"
      ]
    },
    {
      "cell_type": "code",
      "execution_count": null,
      "metadata": {
        "id": "xP8-USx4f9mw",
        "outputId": "dc4ff12e-f311-435e-b54c-57f45ed93dd1"
      },
      "outputs": [
        {
          "data": {
            "text/plain": [
              "MultiIndex([(0.0,),\n",
              "            (5.0,),\n",
              "            (8.0,),\n",
              "            (7.0,),\n",
              "            (3.0,),\n",
              "            (3.0,),\n",
              "            (7.0,),\n",
              "            (4.0,),\n",
              "            (3.0,),\n",
              "            (4.0,),\n",
              "            (6.0,),\n",
              "            (8.0,),\n",
              "            (1.0,),\n",
              "            (0.0,),\n",
              "            (2.0,)],\n",
              "           name='Number')"
            ]
          },
          "execution_count": 20,
          "metadata": {},
          "output_type": "execute_result"
        }
      ],
      "source": [
        "square.index"
      ]
    },
    {
      "cell_type": "markdown",
      "metadata": {
        "id": "UBkl99szf9mw"
      },
      "source": [
        "From `name='Number'`, it is seen that the column is labeled."
      ]
    },
    {
      "cell_type": "markdown",
      "metadata": {
        "id": "Emzawh5hf9mw"
      },
      "source": [
        "**9. Add a number 5 to every element of the series**"
      ]
    },
    {
      "cell_type": "code",
      "execution_count": null,
      "metadata": {
        "id": "O8Oysaf-f9mw",
        "outputId": "8803a39d-9334-4c2f-9b8b-d535932b1e5d"
      },
      "outputs": [
        {
          "data": {
            "text/plain": [
              "0.0     5.0\n",
              "5.0    30.0\n",
              "8.0    69.0\n",
              "7.0    54.0\n",
              "3.0    14.0\n",
              "3.0    14.0\n",
              "7.0    54.0\n",
              "4.0    21.0\n",
              "3.0    14.0\n",
              "4.0    21.0\n",
              "6.0    41.0\n",
              "8.0    69.0\n",
              "1.0     6.0\n",
              "0.0     5.0\n",
              "2.0     9.0\n",
              "Name: Square, dtype: float64"
            ]
          },
          "execution_count": 21,
          "metadata": {},
          "output_type": "execute_result"
        }
      ],
      "source": [
        "square + 5"
      ]
    },
    {
      "cell_type": "markdown",
      "metadata": {
        "id": "kR_8yuaEf9mw"
      },
      "source": [
        "The number 5 has been added to all the variables."
      ]
    },
    {
      "cell_type": "markdown",
      "metadata": {
        "id": "Iy4tbG58f9mw"
      },
      "source": [
        "**10. To extract a value specifying the index**"
      ]
    },
    {
      "cell_type": "code",
      "execution_count": null,
      "metadata": {
        "id": "RDOOUEbPf9mx",
        "outputId": "af7568af-864f-4a97-91d1-070b3cb92ead"
      },
      "outputs": [
        {
          "data": {
            "text/plain": [
              "36.0"
            ]
          },
          "execution_count": 22,
          "metadata": {},
          "output_type": "execute_result"
        }
      ],
      "source": [
        "square[6]"
      ]
    },
    {
      "cell_type": "markdown",
      "metadata": {
        "id": "R04YmMCdf9mx"
      },
      "source": [
        "All values with index as '6' are obtained"
      ]
    },
    {
      "cell_type": "markdown",
      "metadata": {
        "id": "FfCzED28f9mx"
      },
      "source": [
        "**11. To extract a range of values specifying the location**"
      ]
    },
    {
      "cell_type": "code",
      "execution_count": null,
      "metadata": {
        "id": "N6A3hqBSf9mx",
        "outputId": "b18df503-7a0f-476a-daa4-c8a194c43b44"
      },
      "outputs": [
        {
          "data": {
            "text/plain": [
              "7.0    49.0\n",
              "4.0    16.0\n",
              "3.0     9.0\n",
              "4.0    16.0\n",
              "6.0    36.0\n",
              "8.0    64.0\n",
              "1.0     1.0\n",
              "0.0     0.0\n",
              "Name: Square, dtype: float64"
            ]
          },
          "execution_count": 23,
          "metadata": {},
          "output_type": "execute_result"
        }
      ],
      "source": [
        "square[6:14]"
      ]
    },
    {
      "cell_type": "markdown",
      "metadata": {
        "id": "6Hwu2FgVf9mx"
      },
      "source": [
        "**12. Usage of `.iloc`**"
      ]
    },
    {
      "cell_type": "markdown",
      "metadata": {
        "id": "lu9Hrwycf9mx"
      },
      "source": [
        "We use `.iloc` to get the values of the specified index of numbers"
      ]
    },
    {
      "cell_type": "code",
      "execution_count": null,
      "metadata": {
        "id": "vEyG17rDf9mx",
        "outputId": "9074847c-7bee-4e67-9f14-797b6235a828"
      },
      "outputs": [
        {
          "data": {
            "text/plain": [
              "49.0"
            ]
          },
          "execution_count": 24,
          "metadata": {},
          "output_type": "execute_result"
        }
      ],
      "source": [
        "square.iloc[3]"
      ]
    },
    {
      "cell_type": "code",
      "execution_count": null,
      "metadata": {
        "id": "38Irb-qyf9mx",
        "outputId": "33a53c6c-b238-4f83-f9e9-9eb575f6f12b"
      },
      "outputs": [
        {
          "data": {
            "text/plain": [
              "3.0     9.0\n",
              "3.0     9.0\n",
              "7.0    49.0\n",
              "4.0    16.0\n",
              "3.0     9.0\n",
              "Name: Square, dtype: float64"
            ]
          },
          "execution_count": 25,
          "metadata": {},
          "output_type": "execute_result"
        }
      ],
      "source": [
        "square.iloc[4:9]"
      ]
    },
    {
      "cell_type": "markdown",
      "metadata": {
        "id": "cRyUgkyZf9my"
      },
      "source": [
        "**13. Sorting a numeric series**"
      ]
    },
    {
      "cell_type": "code",
      "execution_count": null,
      "metadata": {
        "id": "ngvp1ktOf9my",
        "outputId": "fd2503a8-8260-4ff5-c84f-8ef2d3778497"
      },
      "outputs": [
        {
          "data": {
            "text/plain": [
              "0    23.0\n",
              "1    45.0\n",
              "2     NaN\n",
              "3    41.0\n",
              "4    23.0\n",
              "5    34.0\n",
              "6    55.0\n",
              "7     NaN\n",
              "8    34.0\n",
              "9    20.0\n",
              "dtype: float64"
            ]
          },
          "execution_count": 26,
          "metadata": {},
          "output_type": "execute_result"
        }
      ],
      "source": [
        "# create a pandas series\n",
        "values = pd.Series([23, 45, np.nan, 41, 23, 34, 55, np.nan, 34, 20])\n",
        "\n",
        "values"
      ]
    },
    {
      "cell_type": "code",
      "execution_count": null,
      "metadata": {
        "id": "weK6AMyGf9my",
        "outputId": "ec32ea99-d8eb-412a-f066-a18b9a1966b1"
      },
      "outputs": [
        {
          "data": {
            "text/plain": [
              "9    20.0\n",
              "0    23.0\n",
              "4    23.0\n",
              "5    34.0\n",
              "8    34.0\n",
              "3    41.0\n",
              "1    45.0\n",
              "6    55.0\n",
              "2     NaN\n",
              "7     NaN\n",
              "dtype: float64"
            ]
          },
          "execution_count": 27,
          "metadata": {},
          "output_type": "execute_result"
        }
      ],
      "source": [
        "# ascending order\n",
        "values.sort_values(ascending = True)"
      ]
    },
    {
      "cell_type": "code",
      "execution_count": null,
      "metadata": {
        "id": "kbmhPAP3f9my",
        "outputId": "8d6f2c09-590b-428a-952e-a2a0b52d525b"
      },
      "outputs": [
        {
          "data": {
            "text/plain": [
              "6    55.0\n",
              "1    45.0\n",
              "3    41.0\n",
              "5    34.0\n",
              "8    34.0\n",
              "0    23.0\n",
              "4    23.0\n",
              "9    20.0\n",
              "2     NaN\n",
              "7     NaN\n",
              "dtype: float64"
            ]
          },
          "execution_count": 28,
          "metadata": {},
          "output_type": "execute_result"
        }
      ],
      "source": [
        "# descending order\n",
        "values.sort_values(ascending = False)"
      ]
    },
    {
      "cell_type": "markdown",
      "metadata": {
        "id": "cBH6VpEsf9my"
      },
      "source": [
        "**14. Sorting a categorical series**"
      ]
    },
    {
      "cell_type": "code",
      "execution_count": null,
      "metadata": {
        "id": "BlQEmggnf9my",
        "outputId": "cb60f97a-c106-48dd-f93b-0bb54ceee049"
      },
      "outputs": [
        {
          "data": {
            "text/plain": [
              "0    a\n",
              "1    j\n",
              "2    d\n",
              "3    f\n",
              "4    t\n",
              "5    a\n",
              "dtype: object"
            ]
          },
          "execution_count": 29,
          "metadata": {},
          "output_type": "execute_result"
        }
      ],
      "source": [
        "# create a pandas series\n",
        "string_values = pd.Series([\"a\", \"j\", \"d\", \"f\", \"t\", \"a\"])\n",
        "\n",
        "string_values"
      ]
    },
    {
      "cell_type": "code",
      "execution_count": null,
      "metadata": {
        "id": "zT7ehMD5f9my",
        "outputId": "e47c5a62-8331-4a7d-d9ec-778659b443c8"
      },
      "outputs": [
        {
          "data": {
            "text/plain": [
              "0    a\n",
              "5    a\n",
              "2    d\n",
              "3    f\n",
              "1    j\n",
              "4    t\n",
              "dtype: object"
            ]
          },
          "execution_count": 30,
          "metadata": {},
          "output_type": "execute_result"
        }
      ],
      "source": [
        "# ascending order\n",
        "string_values.sort_values(ascending = True)"
      ]
    },
    {
      "cell_type": "code",
      "execution_count": null,
      "metadata": {
        "id": "aNdPVlz2f9my",
        "outputId": "27a2f521-e77c-4062-d638-63aa84a66ee9"
      },
      "outputs": [
        {
          "data": {
            "text/plain": [
              "4    t\n",
              "1    j\n",
              "3    f\n",
              "2    d\n",
              "0    a\n",
              "5    a\n",
              "dtype: object"
            ]
          },
          "execution_count": 31,
          "metadata": {},
          "output_type": "execute_result"
        }
      ],
      "source": [
        "# descending order\n",
        "string_values.sort_values(ascending = False)"
      ]
    },
    {
      "cell_type": "markdown",
      "metadata": {
        "id": "songRgsgf9mz"
      },
      "source": [
        "**15. Sorting based on index**"
      ]
    },
    {
      "cell_type": "code",
      "execution_count": null,
      "metadata": {
        "id": "MpaYQObZf9mz",
        "outputId": "55ad9a38-8106-4cae-c16a-3cc95d965902"
      },
      "outputs": [
        {
          "data": {
            "text/plain": [
              "0.0     0.0\n",
              "5.0    25.0\n",
              "8.0    64.0\n",
              "7.0    49.0\n",
              "3.0     9.0\n",
              "3.0     9.0\n",
              "7.0    49.0\n",
              "4.0    16.0\n",
              "3.0     9.0\n",
              "4.0    16.0\n",
              "6.0    36.0\n",
              "8.0    64.0\n",
              "1.0     1.0\n",
              "0.0     0.0\n",
              "2.0     4.0\n",
              "Name: Square, dtype: float64"
            ]
          },
          "execution_count": 32,
          "metadata": {},
          "output_type": "execute_result"
        }
      ],
      "source": [
        "# recall the square\n",
        "square"
      ]
    },
    {
      "cell_type": "code",
      "execution_count": null,
      "metadata": {
        "id": "ein_qOb5f9mz",
        "outputId": "6ab06989-69b6-46c3-be62-e6f7b4a5bb28"
      },
      "outputs": [
        {
          "data": {
            "text/plain": [
              "0.0     0.0\n",
              "0.0     0.0\n",
              "1.0     1.0\n",
              "2.0     4.0\n",
              "3.0     9.0\n",
              "3.0     9.0\n",
              "3.0     9.0\n",
              "4.0    16.0\n",
              "4.0    16.0\n",
              "5.0    25.0\n",
              "6.0    36.0\n",
              "7.0    49.0\n",
              "7.0    49.0\n",
              "8.0    64.0\n",
              "8.0    64.0\n",
              "Name: Square, dtype: float64"
            ]
          },
          "execution_count": 33,
          "metadata": {},
          "output_type": "execute_result"
        }
      ],
      "source": [
        "# sort in ascending order based on index\n",
        "square.sort_index(ascending = True)"
      ]
    },
    {
      "cell_type": "code",
      "execution_count": null,
      "metadata": {
        "id": "QNYUA5TIf9mz",
        "outputId": "0fd98797-332d-4058-bbf7-509e14a64d03"
      },
      "outputs": [
        {
          "data": {
            "text/plain": [
              "8.0    64.0\n",
              "8.0    64.0\n",
              "7.0    49.0\n",
              "7.0    49.0\n",
              "6.0    36.0\n",
              "5.0    25.0\n",
              "4.0    16.0\n",
              "4.0    16.0\n",
              "3.0     9.0\n",
              "3.0     9.0\n",
              "3.0     9.0\n",
              "2.0     4.0\n",
              "1.0     1.0\n",
              "0.0     0.0\n",
              "0.0     0.0\n",
              "Name: Square, dtype: float64"
            ]
          },
          "execution_count": 34,
          "metadata": {},
          "output_type": "execute_result"
        }
      ],
      "source": [
        "# sort in descending order based on index\n",
        "square.sort_index(ascending = False)"
      ]
    },
    {
      "cell_type": "markdown",
      "metadata": {
        "id": "akj182ccf9mz"
      },
      "source": [
        "**16. Rank a Series**"
      ]
    },
    {
      "cell_type": "code",
      "execution_count": null,
      "metadata": {
        "id": "7ZerthRtf9mz",
        "outputId": "6549c9f6-c208-44e5-b737-3f3e55ae63d8"
      },
      "outputs": [
        {
          "data": {
            "text/plain": [
              "Maths             1.0\n",
              "Science           4.0\n",
              "Art and Craft     2.0\n",
              "Social Science    3.0\n",
              "dtype: float64"
            ]
          },
          "execution_count": 35,
          "metadata": {},
          "output_type": "execute_result"
        }
      ],
      "source": [
        "# recall the marks_series\n",
        "marks_series.rank( ascending=True, pct=False)"
      ]
    },
    {
      "cell_type": "code",
      "execution_count": null,
      "metadata": {
        "id": "wPQ9xg4af9mz",
        "outputId": "6dbe4151-7e00-4aec-a2f6-c9c973d3bc64"
      },
      "outputs": [
        {
          "data": {
            "text/plain": [
              "0.0     0.0\n",
              "0.0     0.0\n",
              "1.0     1.0\n",
              "2.0     4.0\n",
              "3.0     9.0\n",
              "3.0     9.0\n",
              "3.0     9.0\n",
              "4.0    16.0\n",
              "4.0    16.0\n",
              "5.0    25.0\n",
              "6.0    36.0\n",
              "7.0    49.0\n",
              "7.0    49.0\n",
              "8.0    64.0\n",
              "8.0    64.0\n",
              "Name: Square, dtype: float64"
            ]
          },
          "execution_count": 36,
          "metadata": {},
          "output_type": "execute_result"
        }
      ],
      "source": [
        "# recall the square series\n",
        "square.sort_index(ascending = True)"
      ]
    },
    {
      "cell_type": "markdown",
      "metadata": {
        "id": "IgvM1bkSf9mz"
      },
      "source": [
        "<a id=\"dataframes\"> </a>\n",
        "## 4. Pandas DataFrames"
      ]
    },
    {
      "cell_type": "markdown",
      "metadata": {
        "id": "iOxe9jUBf9m0"
      },
      "source": [
        "<table align=\"left\">\n",
        "    <tr>\n",
        "        <td width=\"15%\">\n",
        "            <img src=\"note.png\">\n",
        "        </td>\n",
        "        <td>\n",
        "            <div align=\"left\", style=\"font-size:120%\">\n",
        "                <font color=\"#21618C\">\n",
        "                    <b> A DataFrame is a tabular representation of data containing an ordered collection of columns, each of which can be a different type (numeric, string, boolean, and so on). <br><br>\n",
        "                        The DataFrame has both a row and column index; it can be thought of as a dict of Series all sharing the same index. In a data frame, the data is stored as one or more two-dimensional blocks rather than a list, dict, or some other collection of one-dimensional arrays.\n",
        "<br><br>\n",
        "                        While a DataFrame is physically two-dimensional, it can be used to represent higher dimensional data in a tabular format using hierarchical indexing\n",
        "                    </b>\n",
        "                </font>\n",
        "            </div>\n",
        "        </td>\n",
        "    </tr>\n",
        "</table>"
      ]
    },
    {
      "cell_type": "markdown",
      "metadata": {
        "id": "Tbux6O6If9m0"
      },
      "source": [
        "<a id=\"creatingDF\"> </a>\n",
        "### 4.1 Creating DataFrames"
      ]
    },
    {
      "cell_type": "markdown",
      "metadata": {
        "id": "igeYr-Izf9m0"
      },
      "source": [
        "**1. Creating a data frame a dictionary**"
      ]
    },
    {
      "cell_type": "code",
      "execution_count": null,
      "metadata": {
        "id": "A9KLFMXSf9m0",
        "outputId": "93de4098-fe14-4941-d9a3-3a98ccc2848a"
      },
      "outputs": [
        {
          "name": "stdout",
          "output_type": "stream",
          "text": [
            "    Subject  Marks  CGPA\n",
            "0     Maths     45   2.5\n",
            "1   History     65   3.0\n",
            "2   Science     78   3.5\n",
            "3   English     65   2.0\n",
            "4  Georaphy     80   4.0\n",
            "5       Art     78   4.0\n"
          ]
        }
      ],
      "source": [
        "data = {'Subject': ['Maths', 'History', 'Science', 'English', 'Georaphy', 'Art'],\n",
        "        'Marks': (45, 65, 78, 65, 80, 78),\n",
        "        'CGPA': [2.5, 3.0, 3.5, 2.0, 4.0, 4.0]}\n",
        "\n",
        "df = pd.DataFrame(data)\n",
        "print(df)"
      ]
    },
    {
      "cell_type": "markdown",
      "metadata": {
        "id": "j3Sqm_dHf9m0"
      },
      "source": [
        "**Note:** Like Series, the resulting DataFrame is assigned index automatically. And the 'Marks' values are in a tuple."
      ]
    },
    {
      "cell_type": "markdown",
      "metadata": {
        "id": "6iz_oc7hf9m0"
      },
      "source": [
        "**2. Another way to create dataframe from dictionary**"
      ]
    },
    {
      "cell_type": "code",
      "execution_count": null,
      "metadata": {
        "id": "WJh79Qo7f9m0",
        "outputId": "2d3e1cd3-15c8-4b0d-adbe-c7bfc1533922"
      },
      "outputs": [
        {
          "name": "stdout",
          "output_type": "stream",
          "text": [
            "    Subject  Marks  CGPA\n",
            "0     Maths     45   2.5\n",
            "1   History     65   3.0\n",
            "2   Science     78   3.5\n",
            "3   English     65   2.0\n",
            "4  Georaphy     80   4.0\n",
            "5       Art     78   4.0\n"
          ]
        }
      ],
      "source": [
        "data = [{'Subject': 'Maths', 'Marks': 45, 'CGPA':2.5},\n",
        "        {'Subject':'History', 'Marks':65, 'CGPA':3.0},\n",
        "        {'Subject':'Science', 'Marks':78, 'CGPA':3.5},\n",
        "        {'Subject':'English', 'Marks':65, 'CGPA':2.0},\n",
        "        {'Subject':'Georaphy', 'Marks':80, 'CGPA':4.0},\n",
        "        {'Subject':'Art', 'Marks':78, 'CGPA':4.0}]\n",
        "\n",
        "df = pd.DataFrame(data)\n",
        "print(df)"
      ]
    },
    {
      "cell_type": "markdown",
      "metadata": {
        "id": "GiJUh9_cf9m0"
      },
      "source": [
        "**3. To create dataframe from series**"
      ]
    },
    {
      "cell_type": "code",
      "execution_count": null,
      "metadata": {
        "id": "GhHwLXZVf9m0"
      },
      "outputs": [],
      "source": [
        "Subject = pd.Series(['Maths', 'History', 'Science', 'English', 'Georaphy', 'Art'])\n",
        "Marks = pd.Series([45, 65, 78, 65, 80, 78])\n",
        "CGPA = pd.Series([2.5, 3.0, 3.5, 2.0, 4.0, 4.0])"
      ]
    },
    {
      "cell_type": "code",
      "execution_count": null,
      "metadata": {
        "id": "osqtWIeyf9m1",
        "outputId": "38c90240-5ae2-4df3-debc-af4c5af36123"
      },
      "outputs": [
        {
          "data": {
            "text/html": [
              "<div>\n",
              "<style scoped>\n",
              "    .dataframe tbody tr th:only-of-type {\n",
              "        vertical-align: middle;\n",
              "    }\n",
              "\n",
              "    .dataframe tbody tr th {\n",
              "        vertical-align: top;\n",
              "    }\n",
              "\n",
              "    .dataframe thead th {\n",
              "        text-align: right;\n",
              "    }\n",
              "</style>\n",
              "<table border=\"1\" class=\"dataframe\">\n",
              "  <thead>\n",
              "    <tr style=\"text-align: right;\">\n",
              "      <th></th>\n",
              "      <th>0</th>\n",
              "      <th>1</th>\n",
              "      <th>2</th>\n",
              "      <th>3</th>\n",
              "      <th>4</th>\n",
              "      <th>5</th>\n",
              "    </tr>\n",
              "  </thead>\n",
              "  <tbody>\n",
              "    <tr>\n",
              "      <th>Subject</th>\n",
              "      <td>Maths</td>\n",
              "      <td>History</td>\n",
              "      <td>Science</td>\n",
              "      <td>English</td>\n",
              "      <td>Georaphy</td>\n",
              "      <td>Art</td>\n",
              "    </tr>\n",
              "    <tr>\n",
              "      <th>Marks</th>\n",
              "      <td>45</td>\n",
              "      <td>65</td>\n",
              "      <td>78</td>\n",
              "      <td>65</td>\n",
              "      <td>80</td>\n",
              "      <td>78</td>\n",
              "    </tr>\n",
              "    <tr>\n",
              "      <th>CGPA</th>\n",
              "      <td>2.5</td>\n",
              "      <td>3.0</td>\n",
              "      <td>3.5</td>\n",
              "      <td>2.0</td>\n",
              "      <td>4.0</td>\n",
              "      <td>4.0</td>\n",
              "    </tr>\n",
              "  </tbody>\n",
              "</table>\n",
              "</div>"
            ],
            "text/plain": [
              "             0        1        2        3         4    5\n",
              "Subject  Maths  History  Science  English  Georaphy  Art\n",
              "Marks       45       65       78       65        80   78\n",
              "CGPA       2.5      3.0      3.5      2.0       4.0  4.0"
            ]
          },
          "execution_count": 40,
          "metadata": {},
          "output_type": "execute_result"
        }
      ],
      "source": [
        "pd.DataFrame([Subject,Marks,CGPA], index = ['Subject','Marks','CGPA'])"
      ]
    },
    {
      "cell_type": "markdown",
      "metadata": {
        "id": "1MfaA5Hbf9m1"
      },
      "source": [
        "However to want a vertical dataframe so we use `.T`. The 'T' stands for transpose."
      ]
    },
    {
      "cell_type": "code",
      "execution_count": null,
      "metadata": {
        "id": "eal6aJdTf9m1",
        "outputId": "4396de68-749b-438c-c24f-f7af875d81e4"
      },
      "outputs": [
        {
          "data": {
            "text/html": [
              "<div>\n",
              "<style scoped>\n",
              "    .dataframe tbody tr th:only-of-type {\n",
              "        vertical-align: middle;\n",
              "    }\n",
              "\n",
              "    .dataframe tbody tr th {\n",
              "        vertical-align: top;\n",
              "    }\n",
              "\n",
              "    .dataframe thead th {\n",
              "        text-align: right;\n",
              "    }\n",
              "</style>\n",
              "<table border=\"1\" class=\"dataframe\">\n",
              "  <thead>\n",
              "    <tr style=\"text-align: right;\">\n",
              "      <th></th>\n",
              "      <th>Subject</th>\n",
              "      <th>Marks</th>\n",
              "      <th>CGPA</th>\n",
              "    </tr>\n",
              "  </thead>\n",
              "  <tbody>\n",
              "    <tr>\n",
              "      <th>0</th>\n",
              "      <td>Maths</td>\n",
              "      <td>45</td>\n",
              "      <td>2.5</td>\n",
              "    </tr>\n",
              "    <tr>\n",
              "      <th>1</th>\n",
              "      <td>History</td>\n",
              "      <td>65</td>\n",
              "      <td>3.0</td>\n",
              "    </tr>\n",
              "    <tr>\n",
              "      <th>2</th>\n",
              "      <td>Science</td>\n",
              "      <td>78</td>\n",
              "      <td>3.5</td>\n",
              "    </tr>\n",
              "    <tr>\n",
              "      <th>3</th>\n",
              "      <td>English</td>\n",
              "      <td>65</td>\n",
              "      <td>2.0</td>\n",
              "    </tr>\n",
              "    <tr>\n",
              "      <th>4</th>\n",
              "      <td>Georaphy</td>\n",
              "      <td>80</td>\n",
              "      <td>4.0</td>\n",
              "    </tr>\n",
              "    <tr>\n",
              "      <th>5</th>\n",
              "      <td>Art</td>\n",
              "      <td>78</td>\n",
              "      <td>4.0</td>\n",
              "    </tr>\n",
              "  </tbody>\n",
              "</table>\n",
              "</div>"
            ],
            "text/plain": [
              "    Subject Marks CGPA\n",
              "0     Maths    45  2.5\n",
              "1   History    65  3.0\n",
              "2   Science    78  3.5\n",
              "3   English    65  2.0\n",
              "4  Georaphy    80  4.0\n",
              "5       Art    78  4.0"
            ]
          },
          "execution_count": 41,
          "metadata": {},
          "output_type": "execute_result"
        }
      ],
      "source": [
        "pd.DataFrame([Subject,Marks,CGPA], index = ['Subject','Marks','CGPA']).T"
      ]
    },
    {
      "cell_type": "markdown",
      "metadata": {
        "id": "z6mFd62Rf9m1"
      },
      "source": [
        "**Remark:** Assign a name to the data frame and then use `.T` to transpose it."
      ]
    },
    {
      "cell_type": "markdown",
      "metadata": {
        "id": "R5Gjf9USf9m1"
      },
      "source": [
        "**4. To create dataframe from lists**"
      ]
    },
    {
      "cell_type": "code",
      "execution_count": null,
      "metadata": {
        "id": "PZlt1m23f9m1"
      },
      "outputs": [],
      "source": [
        "Subject = ['Maths', 'History', 'Science', 'English', 'Georaphy', 'Art']\n",
        "Marks = [45, 65, 78, 65, 80, 78]\n",
        "CGPA = [2.5, 3.0, 3.5, 2.0, 4.0, 4.0]"
      ]
    },
    {
      "cell_type": "code",
      "execution_count": null,
      "metadata": {
        "id": "zToJjgGOf9m1",
        "outputId": "5878ff4a-4d0b-42a8-a5b1-58cafcb4ec13"
      },
      "outputs": [
        {
          "data": {
            "text/html": [
              "<div>\n",
              "<style scoped>\n",
              "    .dataframe tbody tr th:only-of-type {\n",
              "        vertical-align: middle;\n",
              "    }\n",
              "\n",
              "    .dataframe tbody tr th {\n",
              "        vertical-align: top;\n",
              "    }\n",
              "\n",
              "    .dataframe thead th {\n",
              "        text-align: right;\n",
              "    }\n",
              "</style>\n",
              "<table border=\"1\" class=\"dataframe\">\n",
              "  <thead>\n",
              "    <tr style=\"text-align: right;\">\n",
              "      <th></th>\n",
              "      <th>Subject</th>\n",
              "      <th>Marks</th>\n",
              "      <th>CGPA</th>\n",
              "    </tr>\n",
              "  </thead>\n",
              "  <tbody>\n",
              "    <tr>\n",
              "      <th>0</th>\n",
              "      <td>Maths</td>\n",
              "      <td>45</td>\n",
              "      <td>2.5</td>\n",
              "    </tr>\n",
              "    <tr>\n",
              "      <th>1</th>\n",
              "      <td>History</td>\n",
              "      <td>65</td>\n",
              "      <td>3.0</td>\n",
              "    </tr>\n",
              "    <tr>\n",
              "      <th>2</th>\n",
              "      <td>Science</td>\n",
              "      <td>78</td>\n",
              "      <td>3.5</td>\n",
              "    </tr>\n",
              "    <tr>\n",
              "      <th>3</th>\n",
              "      <td>English</td>\n",
              "      <td>65</td>\n",
              "      <td>2.0</td>\n",
              "    </tr>\n",
              "    <tr>\n",
              "      <th>4</th>\n",
              "      <td>Georaphy</td>\n",
              "      <td>80</td>\n",
              "      <td>4.0</td>\n",
              "    </tr>\n",
              "    <tr>\n",
              "      <th>5</th>\n",
              "      <td>Art</td>\n",
              "      <td>78</td>\n",
              "      <td>4.0</td>\n",
              "    </tr>\n",
              "  </tbody>\n",
              "</table>\n",
              "</div>"
            ],
            "text/plain": [
              "    Subject Marks CGPA\n",
              "0     Maths    45  2.5\n",
              "1   History    65  3.0\n",
              "2   Science    78  3.5\n",
              "3   English    65  2.0\n",
              "4  Georaphy    80  4.0\n",
              "5       Art    78  4.0"
            ]
          },
          "execution_count": 43,
          "metadata": {},
          "output_type": "execute_result"
        }
      ],
      "source": [
        "pd.DataFrame([Subject,Marks,CGPA], index = ['Subject','Marks','CGPA']).T"
      ]
    },
    {
      "cell_type": "markdown",
      "metadata": {
        "id": "H8mX1u2Lf9m1"
      },
      "source": [
        "**5. To read data from csv file**"
      ]
    },
    {
      "cell_type": "code",
      "execution_count": null,
      "metadata": {
        "id": "-vxT3C0Jf9m1"
      },
      "outputs": [],
      "source": [
        "data = pd.read_csv(\"example.csv\")"
      ]
    },
    {
      "cell_type": "code",
      "execution_count": null,
      "metadata": {
        "id": "K34vsRndf9m1",
        "outputId": "24b0fd16-ca4e-477c-9e03-3ee10d31369a"
      },
      "outputs": [
        {
          "data": {
            "text/plain": [
              "pandas.core.frame.DataFrame"
            ]
          },
          "execution_count": 45,
          "metadata": {},
          "output_type": "execute_result"
        }
      ],
      "source": [
        "type(data)"
      ]
    },
    {
      "cell_type": "markdown",
      "metadata": {
        "id": "IQEH6aqwf9m2"
      },
      "source": [
        "On checking the data type, we notice it is read as pandas data frame."
      ]
    },
    {
      "cell_type": "code",
      "execution_count": null,
      "metadata": {
        "id": "kY-Vszs9f9m2",
        "outputId": "b85df895-896a-4ed7-b1b7-97e623b59829"
      },
      "outputs": [
        {
          "name": "stdout",
          "output_type": "stream",
          "text": [
            "    Age  Weight (in kg)  Height (in m)\n",
            "0    45              60           1.35\n",
            "1    12              43           1.21\n",
            "2    54              78           1.50\n",
            "3    26              65           1.21\n",
            "4    68              50           1.32\n",
            "5    21              43           1.52\n",
            "6    10              32           1.65\n",
            "7    57              34           1.61\n",
            "8    75              23           1.24\n",
            "9    32              21           1.52\n",
            "10   23              53           1.50\n",
            "11   34              65           1.76\n",
            "12   55              89           1.65\n",
            "13   23              45           1.75\n",
            "14   56              76           1.69\n",
            "15   67              78           1.85\n",
            "16   26              65           1.21\n",
            "17   56              74           1.69\n",
            "18   67              78           1.85\n",
            "19   26              65           1.21\n",
            "20   68              50           1.32\n",
            "21   56              76           1.69\n",
            "22   67              78           1.85\n"
          ]
        }
      ],
      "source": [
        "print(data)"
      ]
    },
    {
      "cell_type": "markdown",
      "metadata": {
        "id": "FvrXj0suf9m2"
      },
      "source": [
        "**6. To print head of the data**"
      ]
    },
    {
      "cell_type": "code",
      "execution_count": null,
      "metadata": {
        "id": "bvYImqhOf9m2",
        "outputId": "02992816-8231-43c6-c87a-9b30c43f00f1"
      },
      "outputs": [
        {
          "data": {
            "text/html": [
              "<div>\n",
              "<style scoped>\n",
              "    .dataframe tbody tr th:only-of-type {\n",
              "        vertical-align: middle;\n",
              "    }\n",
              "\n",
              "    .dataframe tbody tr th {\n",
              "        vertical-align: top;\n",
              "    }\n",
              "\n",
              "    .dataframe thead th {\n",
              "        text-align: right;\n",
              "    }\n",
              "</style>\n",
              "<table border=\"1\" class=\"dataframe\">\n",
              "  <thead>\n",
              "    <tr style=\"text-align: right;\">\n",
              "      <th></th>\n",
              "      <th>Age</th>\n",
              "      <th>Weight (in kg)</th>\n",
              "      <th>Height (in m)</th>\n",
              "    </tr>\n",
              "  </thead>\n",
              "  <tbody>\n",
              "    <tr>\n",
              "      <th>0</th>\n",
              "      <td>45</td>\n",
              "      <td>60</td>\n",
              "      <td>1.35</td>\n",
              "    </tr>\n",
              "    <tr>\n",
              "      <th>1</th>\n",
              "      <td>12</td>\n",
              "      <td>43</td>\n",
              "      <td>1.21</td>\n",
              "    </tr>\n",
              "    <tr>\n",
              "      <th>2</th>\n",
              "      <td>54</td>\n",
              "      <td>78</td>\n",
              "      <td>1.50</td>\n",
              "    </tr>\n",
              "    <tr>\n",
              "      <th>3</th>\n",
              "      <td>26</td>\n",
              "      <td>65</td>\n",
              "      <td>1.21</td>\n",
              "    </tr>\n",
              "    <tr>\n",
              "      <th>4</th>\n",
              "      <td>68</td>\n",
              "      <td>50</td>\n",
              "      <td>1.32</td>\n",
              "    </tr>\n",
              "  </tbody>\n",
              "</table>\n",
              "</div>"
            ],
            "text/plain": [
              "   Age  Weight (in kg)  Height (in m)\n",
              "0   45              60           1.35\n",
              "1   12              43           1.21\n",
              "2   54              78           1.50\n",
              "3   26              65           1.21\n",
              "4   68              50           1.32"
            ]
          },
          "execution_count": 47,
          "metadata": {},
          "output_type": "execute_result"
        }
      ],
      "source": [
        "data.head()"
      ]
    },
    {
      "cell_type": "markdown",
      "metadata": {
        "id": "Wctg37qZf9m2"
      },
      "source": [
        "By default, the `.head()` will display **first** five rows. However, we can set the desired number of rows to be displayed.\n",
        "\n",
        "Say we want to see the first 9 rows, we write the number 9 in the parentheses."
      ]
    },
    {
      "cell_type": "code",
      "execution_count": null,
      "metadata": {
        "id": "zmEOU5Dqf9m2",
        "outputId": "a3bd0893-b405-420a-ad79-b5363acab3ac"
      },
      "outputs": [
        {
          "data": {
            "text/html": [
              "<div>\n",
              "<style scoped>\n",
              "    .dataframe tbody tr th:only-of-type {\n",
              "        vertical-align: middle;\n",
              "    }\n",
              "\n",
              "    .dataframe tbody tr th {\n",
              "        vertical-align: top;\n",
              "    }\n",
              "\n",
              "    .dataframe thead th {\n",
              "        text-align: right;\n",
              "    }\n",
              "</style>\n",
              "<table border=\"1\" class=\"dataframe\">\n",
              "  <thead>\n",
              "    <tr style=\"text-align: right;\">\n",
              "      <th></th>\n",
              "      <th>Age</th>\n",
              "      <th>Weight (in kg)</th>\n",
              "      <th>Height (in m)</th>\n",
              "    </tr>\n",
              "  </thead>\n",
              "  <tbody>\n",
              "    <tr>\n",
              "      <th>0</th>\n",
              "      <td>45</td>\n",
              "      <td>60</td>\n",
              "      <td>1.35</td>\n",
              "    </tr>\n",
              "    <tr>\n",
              "      <th>1</th>\n",
              "      <td>12</td>\n",
              "      <td>43</td>\n",
              "      <td>1.21</td>\n",
              "    </tr>\n",
              "    <tr>\n",
              "      <th>2</th>\n",
              "      <td>54</td>\n",
              "      <td>78</td>\n",
              "      <td>1.50</td>\n",
              "    </tr>\n",
              "    <tr>\n",
              "      <th>3</th>\n",
              "      <td>26</td>\n",
              "      <td>65</td>\n",
              "      <td>1.21</td>\n",
              "    </tr>\n",
              "    <tr>\n",
              "      <th>4</th>\n",
              "      <td>68</td>\n",
              "      <td>50</td>\n",
              "      <td>1.32</td>\n",
              "    </tr>\n",
              "    <tr>\n",
              "      <th>5</th>\n",
              "      <td>21</td>\n",
              "      <td>43</td>\n",
              "      <td>1.52</td>\n",
              "    </tr>\n",
              "    <tr>\n",
              "      <th>6</th>\n",
              "      <td>10</td>\n",
              "      <td>32</td>\n",
              "      <td>1.65</td>\n",
              "    </tr>\n",
              "    <tr>\n",
              "      <th>7</th>\n",
              "      <td>57</td>\n",
              "      <td>34</td>\n",
              "      <td>1.61</td>\n",
              "    </tr>\n",
              "    <tr>\n",
              "      <th>8</th>\n",
              "      <td>75</td>\n",
              "      <td>23</td>\n",
              "      <td>1.24</td>\n",
              "    </tr>\n",
              "  </tbody>\n",
              "</table>\n",
              "</div>"
            ],
            "text/plain": [
              "   Age  Weight (in kg)  Height (in m)\n",
              "0   45              60           1.35\n",
              "1   12              43           1.21\n",
              "2   54              78           1.50\n",
              "3   26              65           1.21\n",
              "4   68              50           1.32\n",
              "5   21              43           1.52\n",
              "6   10              32           1.65\n",
              "7   57              34           1.61\n",
              "8   75              23           1.24"
            ]
          },
          "execution_count": 48,
          "metadata": {},
          "output_type": "execute_result"
        }
      ],
      "source": [
        "data.head(9)"
      ]
    },
    {
      "cell_type": "markdown",
      "metadata": {
        "id": "mLAvSdoHf9m2"
      },
      "source": [
        "**7. To print tail of the data**"
      ]
    },
    {
      "cell_type": "code",
      "execution_count": null,
      "metadata": {
        "id": "jiqfJyisf9m2",
        "outputId": "77db18b7-0c7c-4abb-f52c-63cef21a33e0"
      },
      "outputs": [
        {
          "data": {
            "text/html": [
              "<div>\n",
              "<style scoped>\n",
              "    .dataframe tbody tr th:only-of-type {\n",
              "        vertical-align: middle;\n",
              "    }\n",
              "\n",
              "    .dataframe tbody tr th {\n",
              "        vertical-align: top;\n",
              "    }\n",
              "\n",
              "    .dataframe thead th {\n",
              "        text-align: right;\n",
              "    }\n",
              "</style>\n",
              "<table border=\"1\" class=\"dataframe\">\n",
              "  <thead>\n",
              "    <tr style=\"text-align: right;\">\n",
              "      <th></th>\n",
              "      <th>Age</th>\n",
              "      <th>Weight (in kg)</th>\n",
              "      <th>Height (in m)</th>\n",
              "    </tr>\n",
              "  </thead>\n",
              "  <tbody>\n",
              "    <tr>\n",
              "      <th>18</th>\n",
              "      <td>67</td>\n",
              "      <td>78</td>\n",
              "      <td>1.85</td>\n",
              "    </tr>\n",
              "    <tr>\n",
              "      <th>19</th>\n",
              "      <td>26</td>\n",
              "      <td>65</td>\n",
              "      <td>1.21</td>\n",
              "    </tr>\n",
              "    <tr>\n",
              "      <th>20</th>\n",
              "      <td>68</td>\n",
              "      <td>50</td>\n",
              "      <td>1.32</td>\n",
              "    </tr>\n",
              "    <tr>\n",
              "      <th>21</th>\n",
              "      <td>56</td>\n",
              "      <td>76</td>\n",
              "      <td>1.69</td>\n",
              "    </tr>\n",
              "    <tr>\n",
              "      <th>22</th>\n",
              "      <td>67</td>\n",
              "      <td>78</td>\n",
              "      <td>1.85</td>\n",
              "    </tr>\n",
              "  </tbody>\n",
              "</table>\n",
              "</div>"
            ],
            "text/plain": [
              "    Age  Weight (in kg)  Height (in m)\n",
              "18   67              78           1.85\n",
              "19   26              65           1.21\n",
              "20   68              50           1.32\n",
              "21   56              76           1.69\n",
              "22   67              78           1.85"
            ]
          },
          "execution_count": 49,
          "metadata": {},
          "output_type": "execute_result"
        }
      ],
      "source": [
        "data.tail()"
      ]
    },
    {
      "cell_type": "markdown",
      "metadata": {
        "id": "CGwY0oUMf9m2"
      },
      "source": [
        "By default, the `.tail()` will display **last** five rows. However, we can set the desired number of rows to be displayed.\n",
        "\n",
        "Say we want to see the last 14 rows, we write the number 14 in the parentheses."
      ]
    },
    {
      "cell_type": "code",
      "execution_count": null,
      "metadata": {
        "id": "BPPMGhWff9m3",
        "outputId": "5a3cc5d7-d3da-4176-e4cf-efd8f095f661"
      },
      "outputs": [
        {
          "data": {
            "text/html": [
              "<div>\n",
              "<style scoped>\n",
              "    .dataframe tbody tr th:only-of-type {\n",
              "        vertical-align: middle;\n",
              "    }\n",
              "\n",
              "    .dataframe tbody tr th {\n",
              "        vertical-align: top;\n",
              "    }\n",
              "\n",
              "    .dataframe thead th {\n",
              "        text-align: right;\n",
              "    }\n",
              "</style>\n",
              "<table border=\"1\" class=\"dataframe\">\n",
              "  <thead>\n",
              "    <tr style=\"text-align: right;\">\n",
              "      <th></th>\n",
              "      <th>Age</th>\n",
              "      <th>Weight (in kg)</th>\n",
              "      <th>Height (in m)</th>\n",
              "    </tr>\n",
              "  </thead>\n",
              "  <tbody>\n",
              "    <tr>\n",
              "      <th>9</th>\n",
              "      <td>32</td>\n",
              "      <td>21</td>\n",
              "      <td>1.52</td>\n",
              "    </tr>\n",
              "    <tr>\n",
              "      <th>10</th>\n",
              "      <td>23</td>\n",
              "      <td>53</td>\n",
              "      <td>1.50</td>\n",
              "    </tr>\n",
              "    <tr>\n",
              "      <th>11</th>\n",
              "      <td>34</td>\n",
              "      <td>65</td>\n",
              "      <td>1.76</td>\n",
              "    </tr>\n",
              "    <tr>\n",
              "      <th>12</th>\n",
              "      <td>55</td>\n",
              "      <td>89</td>\n",
              "      <td>1.65</td>\n",
              "    </tr>\n",
              "    <tr>\n",
              "      <th>13</th>\n",
              "      <td>23</td>\n",
              "      <td>45</td>\n",
              "      <td>1.75</td>\n",
              "    </tr>\n",
              "    <tr>\n",
              "      <th>14</th>\n",
              "      <td>56</td>\n",
              "      <td>76</td>\n",
              "      <td>1.69</td>\n",
              "    </tr>\n",
              "    <tr>\n",
              "      <th>15</th>\n",
              "      <td>67</td>\n",
              "      <td>78</td>\n",
              "      <td>1.85</td>\n",
              "    </tr>\n",
              "    <tr>\n",
              "      <th>16</th>\n",
              "      <td>26</td>\n",
              "      <td>65</td>\n",
              "      <td>1.21</td>\n",
              "    </tr>\n",
              "    <tr>\n",
              "      <th>17</th>\n",
              "      <td>56</td>\n",
              "      <td>74</td>\n",
              "      <td>1.69</td>\n",
              "    </tr>\n",
              "    <tr>\n",
              "      <th>18</th>\n",
              "      <td>67</td>\n",
              "      <td>78</td>\n",
              "      <td>1.85</td>\n",
              "    </tr>\n",
              "    <tr>\n",
              "      <th>19</th>\n",
              "      <td>26</td>\n",
              "      <td>65</td>\n",
              "      <td>1.21</td>\n",
              "    </tr>\n",
              "    <tr>\n",
              "      <th>20</th>\n",
              "      <td>68</td>\n",
              "      <td>50</td>\n",
              "      <td>1.32</td>\n",
              "    </tr>\n",
              "    <tr>\n",
              "      <th>21</th>\n",
              "      <td>56</td>\n",
              "      <td>76</td>\n",
              "      <td>1.69</td>\n",
              "    </tr>\n",
              "    <tr>\n",
              "      <th>22</th>\n",
              "      <td>67</td>\n",
              "      <td>78</td>\n",
              "      <td>1.85</td>\n",
              "    </tr>\n",
              "  </tbody>\n",
              "</table>\n",
              "</div>"
            ],
            "text/plain": [
              "    Age  Weight (in kg)  Height (in m)\n",
              "9    32              21           1.52\n",
              "10   23              53           1.50\n",
              "11   34              65           1.76\n",
              "12   55              89           1.65\n",
              "13   23              45           1.75\n",
              "14   56              76           1.69\n",
              "15   67              78           1.85\n",
              "16   26              65           1.21\n",
              "17   56              74           1.69\n",
              "18   67              78           1.85\n",
              "19   26              65           1.21\n",
              "20   68              50           1.32\n",
              "21   56              76           1.69\n",
              "22   67              78           1.85"
            ]
          },
          "execution_count": 50,
          "metadata": {},
          "output_type": "execute_result"
        }
      ],
      "source": [
        "data.tail(14)"
      ]
    },
    {
      "cell_type": "markdown",
      "metadata": {
        "id": "u2y_Ir4hf9m3"
      },
      "source": [
        "**8. To obtain the dimension of the data**"
      ]
    },
    {
      "cell_type": "code",
      "execution_count": null,
      "metadata": {
        "id": "bch--CfSf9m3",
        "outputId": "f0cae7d3-f618-4216-e3e1-560027f0d67a"
      },
      "outputs": [
        {
          "data": {
            "text/plain": [
              "(23, 3)"
            ]
          },
          "execution_count": 51,
          "metadata": {},
          "output_type": "execute_result"
        }
      ],
      "source": [
        "data.shape"
      ]
    },
    {
      "cell_type": "markdown",
      "metadata": {
        "id": "2OYnXoewf9m3"
      },
      "source": [
        "**9. To know the data types of a data frame**"
      ]
    },
    {
      "cell_type": "code",
      "execution_count": null,
      "metadata": {
        "id": "rF7T-XP_f9m3",
        "outputId": "ba6a7c33-7883-4293-bb03-44d49040a81f"
      },
      "outputs": [
        {
          "data": {
            "text/plain": [
              "Age                 int64\n",
              "Weight (in kg)      int64\n",
              "Height (in m)     float64\n",
              "dtype: object"
            ]
          },
          "execution_count": 52,
          "metadata": {},
          "output_type": "execute_result"
        }
      ],
      "source": [
        "data.dtypes"
      ]
    },
    {
      "cell_type": "markdown",
      "metadata": {
        "id": "ITEKcwPmf9m3"
      },
      "source": [
        "We see the data type of each variable."
      ]
    },
    {
      "cell_type": "markdown",
      "metadata": {
        "id": "ERpkS240f9m3"
      },
      "source": [
        "**10. To know some information of the data**"
      ]
    },
    {
      "cell_type": "code",
      "execution_count": null,
      "metadata": {
        "id": "PLQvdfzXf9m4",
        "outputId": "6b534532-a28a-4dbb-bbfb-99c8766aa43a"
      },
      "outputs": [
        {
          "name": "stdout",
          "output_type": "stream",
          "text": [
            "<class 'pandas.core.frame.DataFrame'>\n",
            "RangeIndex: 23 entries, 0 to 22\n",
            "Data columns (total 3 columns):\n",
            " #   Column          Non-Null Count  Dtype  \n",
            "---  ------          --------------  -----  \n",
            " 0   Age             23 non-null     int64  \n",
            " 1   Weight (in kg)  23 non-null     int64  \n",
            " 2   Height (in m)   23 non-null     float64\n",
            "dtypes: float64(1), int64(2)\n",
            "memory usage: 684.0 bytes\n"
          ]
        }
      ],
      "source": [
        "data.info()"
      ]
    },
    {
      "cell_type": "markdown",
      "metadata": {
        "id": "okqoAQNlf9m4"
      },
      "source": [
        "We see this output gives the number of rows present in the data `RangeIndex: 23 entries, 0 to 22` There are 23 rows numbered from 0 to 22. And there are a total of three columns - `Data columns (total 3 columns)`.\n",
        "\n",
        "Consider `Age 23 non-null int64` indicates that the column named 'Age' has 23 non-null observations having the data type 'int64'\n",
        "\n",
        "And finally the memory used to save this dataframe is 680 bytes."
      ]
    },
    {
      "cell_type": "markdown",
      "metadata": {
        "id": "myx1zFk4f9m4"
      },
      "source": [
        "**11. To check the data type of column in the data frame**"
      ]
    },
    {
      "cell_type": "code",
      "execution_count": null,
      "metadata": {
        "id": "BdDovXVgf9m4",
        "outputId": "dfe63b18-7b7a-4420-e7d1-f2452d2e0218"
      },
      "outputs": [
        {
          "data": {
            "text/plain": [
              "pandas.core.series.Series"
            ]
          },
          "execution_count": 54,
          "metadata": {},
          "output_type": "execute_result"
        }
      ],
      "source": [
        "type(data.Age)"
      ]
    },
    {
      "cell_type": "code",
      "execution_count": null,
      "metadata": {
        "id": "gSlpi6s-f9m4",
        "outputId": "5ca83f31-0353-48f7-dd84-625e406c0d5e"
      },
      "outputs": [
        {
          "data": {
            "text/plain": [
              "pandas.core.series.Series"
            ]
          },
          "execution_count": 55,
          "metadata": {},
          "output_type": "execute_result"
        }
      ],
      "source": [
        "type(data[\"Weight (in kg)\"])"
      ]
    },
    {
      "cell_type": "code",
      "execution_count": null,
      "metadata": {
        "id": "NVk9TBXTf9m4",
        "outputId": "fe010850-db76-4415-bbc5-0a7237a5c4b5"
      },
      "outputs": [
        {
          "data": {
            "text/plain": [
              "pandas.core.series.Series"
            ]
          },
          "execution_count": 56,
          "metadata": {},
          "output_type": "execute_result"
        }
      ],
      "source": [
        "type(data[\"Height (in m)\"])"
      ]
    },
    {
      "cell_type": "markdown",
      "metadata": {
        "id": "NKQl-no0f9m5"
      },
      "source": [
        "**Note that every column of the data frame is a pandas Series.**"
      ]
    },
    {
      "cell_type": "markdown",
      "metadata": {
        "id": "zU_sxT-Rf9m5"
      },
      "source": [
        "<a id=\"manipulatingDF\"> </a>\n",
        "### 4.2  Manipulating DataFrames"
      ]
    },
    {
      "cell_type": "markdown",
      "metadata": {
        "id": "uwlGsd5If9m5"
      },
      "source": [
        "### Add new column and rows"
      ]
    },
    {
      "cell_type": "markdown",
      "metadata": {
        "id": "-8FzSXJ7f9m5"
      },
      "source": [
        "<table align=\"left\">\n",
        "    <tr>\n",
        "        <td width=\"8%\">\n",
        "            <img src=\"caution.png\">\n",
        "        </td>\n",
        "        <td>\n",
        "            <div align=\"left\", style=\"font-size:120%\">\n",
        "                <font color=\"#21618C\">\n",
        "                    <b> CAUTION:<br>\n",
        "                        1. DataFrame[column] works for any column name, but DataFrame.column only works when the column name is a valid Python variable name.<br>\n",
        "                        2. New columns cannot be created with the ` data.BMI ` syntax.\n",
        "                    </b>\n",
        "                </font>\n",
        "            </div>\n",
        "        </td>\n",
        "    </tr>\n",
        "</table>"
      ]
    },
    {
      "cell_type": "markdown",
      "metadata": {
        "id": "5asgCfbbf9m5"
      },
      "source": [
        "**1. Adding a new column to the data set**"
      ]
    },
    {
      "cell_type": "code",
      "execution_count": null,
      "metadata": {
        "id": "SMXgh0mNf9m5"
      },
      "outputs": [],
      "source": [
        "data[\"BMI\"] = data[\"Weight (in kg)\"] / data[\"Height (in m)\"]**2"
      ]
    },
    {
      "cell_type": "code",
      "execution_count": null,
      "metadata": {
        "scrolled": true,
        "id": "emspMV0ef9m5",
        "outputId": "e2efa633-2677-493f-b594-25be774e7c30"
      },
      "outputs": [
        {
          "data": {
            "text/html": [
              "<div>\n",
              "<style scoped>\n",
              "    .dataframe tbody tr th:only-of-type {\n",
              "        vertical-align: middle;\n",
              "    }\n",
              "\n",
              "    .dataframe tbody tr th {\n",
              "        vertical-align: top;\n",
              "    }\n",
              "\n",
              "    .dataframe thead th {\n",
              "        text-align: right;\n",
              "    }\n",
              "</style>\n",
              "<table border=\"1\" class=\"dataframe\">\n",
              "  <thead>\n",
              "    <tr style=\"text-align: right;\">\n",
              "      <th></th>\n",
              "      <th>Age</th>\n",
              "      <th>Weight (in kg)</th>\n",
              "      <th>Height (in m)</th>\n",
              "      <th>BMI</th>\n",
              "    </tr>\n",
              "  </thead>\n",
              "  <tbody>\n",
              "    <tr>\n",
              "      <th>0</th>\n",
              "      <td>45</td>\n",
              "      <td>60</td>\n",
              "      <td>1.35</td>\n",
              "      <td>32.921811</td>\n",
              "    </tr>\n",
              "    <tr>\n",
              "      <th>1</th>\n",
              "      <td>12</td>\n",
              "      <td>43</td>\n",
              "      <td>1.21</td>\n",
              "      <td>29.369579</td>\n",
              "    </tr>\n",
              "    <tr>\n",
              "      <th>2</th>\n",
              "      <td>54</td>\n",
              "      <td>78</td>\n",
              "      <td>1.50</td>\n",
              "      <td>34.666667</td>\n",
              "    </tr>\n",
              "    <tr>\n",
              "      <th>3</th>\n",
              "      <td>26</td>\n",
              "      <td>65</td>\n",
              "      <td>1.21</td>\n",
              "      <td>44.395875</td>\n",
              "    </tr>\n",
              "    <tr>\n",
              "      <th>4</th>\n",
              "      <td>68</td>\n",
              "      <td>50</td>\n",
              "      <td>1.32</td>\n",
              "      <td>28.696051</td>\n",
              "    </tr>\n",
              "    <tr>\n",
              "      <th>5</th>\n",
              "      <td>21</td>\n",
              "      <td>43</td>\n",
              "      <td>1.52</td>\n",
              "      <td>18.611496</td>\n",
              "    </tr>\n",
              "    <tr>\n",
              "      <th>6</th>\n",
              "      <td>10</td>\n",
              "      <td>32</td>\n",
              "      <td>1.65</td>\n",
              "      <td>11.753903</td>\n",
              "    </tr>\n",
              "    <tr>\n",
              "      <th>7</th>\n",
              "      <td>57</td>\n",
              "      <td>34</td>\n",
              "      <td>1.61</td>\n",
              "      <td>13.116778</td>\n",
              "    </tr>\n",
              "    <tr>\n",
              "      <th>8</th>\n",
              "      <td>75</td>\n",
              "      <td>23</td>\n",
              "      <td>1.24</td>\n",
              "      <td>14.958377</td>\n",
              "    </tr>\n",
              "    <tr>\n",
              "      <th>9</th>\n",
              "      <td>32</td>\n",
              "      <td>21</td>\n",
              "      <td>1.52</td>\n",
              "      <td>9.089335</td>\n",
              "    </tr>\n",
              "    <tr>\n",
              "      <th>10</th>\n",
              "      <td>23</td>\n",
              "      <td>53</td>\n",
              "      <td>1.50</td>\n",
              "      <td>23.555556</td>\n",
              "    </tr>\n",
              "    <tr>\n",
              "      <th>11</th>\n",
              "      <td>34</td>\n",
              "      <td>65</td>\n",
              "      <td>1.76</td>\n",
              "      <td>20.983988</td>\n",
              "    </tr>\n",
              "    <tr>\n",
              "      <th>12</th>\n",
              "      <td>55</td>\n",
              "      <td>89</td>\n",
              "      <td>1.65</td>\n",
              "      <td>32.690542</td>\n",
              "    </tr>\n",
              "    <tr>\n",
              "      <th>13</th>\n",
              "      <td>23</td>\n",
              "      <td>45</td>\n",
              "      <td>1.75</td>\n",
              "      <td>14.693878</td>\n",
              "    </tr>\n",
              "    <tr>\n",
              "      <th>14</th>\n",
              "      <td>56</td>\n",
              "      <td>76</td>\n",
              "      <td>1.69</td>\n",
              "      <td>26.609713</td>\n",
              "    </tr>\n",
              "    <tr>\n",
              "      <th>15</th>\n",
              "      <td>67</td>\n",
              "      <td>78</td>\n",
              "      <td>1.85</td>\n",
              "      <td>22.790358</td>\n",
              "    </tr>\n",
              "    <tr>\n",
              "      <th>16</th>\n",
              "      <td>26</td>\n",
              "      <td>65</td>\n",
              "      <td>1.21</td>\n",
              "      <td>44.395875</td>\n",
              "    </tr>\n",
              "    <tr>\n",
              "      <th>17</th>\n",
              "      <td>56</td>\n",
              "      <td>74</td>\n",
              "      <td>1.69</td>\n",
              "      <td>25.909457</td>\n",
              "    </tr>\n",
              "    <tr>\n",
              "      <th>18</th>\n",
              "      <td>67</td>\n",
              "      <td>78</td>\n",
              "      <td>1.85</td>\n",
              "      <td>22.790358</td>\n",
              "    </tr>\n",
              "    <tr>\n",
              "      <th>19</th>\n",
              "      <td>26</td>\n",
              "      <td>65</td>\n",
              "      <td>1.21</td>\n",
              "      <td>44.395875</td>\n",
              "    </tr>\n",
              "    <tr>\n",
              "      <th>20</th>\n",
              "      <td>68</td>\n",
              "      <td>50</td>\n",
              "      <td>1.32</td>\n",
              "      <td>28.696051</td>\n",
              "    </tr>\n",
              "    <tr>\n",
              "      <th>21</th>\n",
              "      <td>56</td>\n",
              "      <td>76</td>\n",
              "      <td>1.69</td>\n",
              "      <td>26.609713</td>\n",
              "    </tr>\n",
              "    <tr>\n",
              "      <th>22</th>\n",
              "      <td>67</td>\n",
              "      <td>78</td>\n",
              "      <td>1.85</td>\n",
              "      <td>22.790358</td>\n",
              "    </tr>\n",
              "  </tbody>\n",
              "</table>\n",
              "</div>"
            ],
            "text/plain": [
              "    Age  Weight (in kg)  Height (in m)        BMI\n",
              "0    45              60           1.35  32.921811\n",
              "1    12              43           1.21  29.369579\n",
              "2    54              78           1.50  34.666667\n",
              "3    26              65           1.21  44.395875\n",
              "4    68              50           1.32  28.696051\n",
              "5    21              43           1.52  18.611496\n",
              "6    10              32           1.65  11.753903\n",
              "7    57              34           1.61  13.116778\n",
              "8    75              23           1.24  14.958377\n",
              "9    32              21           1.52   9.089335\n",
              "10   23              53           1.50  23.555556\n",
              "11   34              65           1.76  20.983988\n",
              "12   55              89           1.65  32.690542\n",
              "13   23              45           1.75  14.693878\n",
              "14   56              76           1.69  26.609713\n",
              "15   67              78           1.85  22.790358\n",
              "16   26              65           1.21  44.395875\n",
              "17   56              74           1.69  25.909457\n",
              "18   67              78           1.85  22.790358\n",
              "19   26              65           1.21  44.395875\n",
              "20   68              50           1.32  28.696051\n",
              "21   56              76           1.69  26.609713\n",
              "22   67              78           1.85  22.790358"
            ]
          },
          "execution_count": 58,
          "metadata": {},
          "output_type": "execute_result"
        }
      ],
      "source": [
        "data"
      ]
    },
    {
      "cell_type": "code",
      "execution_count": null,
      "metadata": {
        "id": "Hy7uSNu-f9m5",
        "outputId": "d266d388-992d-424f-b35a-aebad39fab16"
      },
      "outputs": [
        {
          "data": {
            "text/plain": [
              "(23, 4)"
            ]
          },
          "execution_count": 59,
          "metadata": {},
          "output_type": "execute_result"
        }
      ],
      "source": [
        "data.shape"
      ]
    },
    {
      "cell_type": "markdown",
      "metadata": {
        "id": "Xj2wqYoof9m6"
      },
      "source": [
        "**2. Adding a new row to the data set**"
      ]
    },
    {
      "cell_type": "markdown",
      "metadata": {
        "id": "tjxRRrUrf9m6"
      },
      "source": [
        "A new row can be added using the function copy()"
      ]
    },
    {
      "cell_type": "code",
      "execution_count": null,
      "metadata": {
        "id": "uEEhelomf9m6"
      },
      "outputs": [],
      "source": [
        "data_copy = data.copy()\n",
        "data_copy.loc[23] = [45, 85, 1.8, 26.3]"
      ]
    },
    {
      "cell_type": "code",
      "execution_count": null,
      "metadata": {
        "id": "U6f5h59Cf9m6",
        "outputId": "b10a512b-d8a7-4445-e53d-112affc14e91"
      },
      "outputs": [
        {
          "data": {
            "text/html": [
              "<div>\n",
              "<style scoped>\n",
              "    .dataframe tbody tr th:only-of-type {\n",
              "        vertical-align: middle;\n",
              "    }\n",
              "\n",
              "    .dataframe tbody tr th {\n",
              "        vertical-align: top;\n",
              "    }\n",
              "\n",
              "    .dataframe thead th {\n",
              "        text-align: right;\n",
              "    }\n",
              "</style>\n",
              "<table border=\"1\" class=\"dataframe\">\n",
              "  <thead>\n",
              "    <tr style=\"text-align: right;\">\n",
              "      <th></th>\n",
              "      <th>Age</th>\n",
              "      <th>Weight (in kg)</th>\n",
              "      <th>Height (in m)</th>\n",
              "      <th>BMI</th>\n",
              "    </tr>\n",
              "  </thead>\n",
              "  <tbody>\n",
              "    <tr>\n",
              "      <th>0</th>\n",
              "      <td>45.0</td>\n",
              "      <td>60.0</td>\n",
              "      <td>1.35</td>\n",
              "      <td>32.921811</td>\n",
              "    </tr>\n",
              "    <tr>\n",
              "      <th>1</th>\n",
              "      <td>12.0</td>\n",
              "      <td>43.0</td>\n",
              "      <td>1.21</td>\n",
              "      <td>29.369579</td>\n",
              "    </tr>\n",
              "    <tr>\n",
              "      <th>2</th>\n",
              "      <td>54.0</td>\n",
              "      <td>78.0</td>\n",
              "      <td>1.50</td>\n",
              "      <td>34.666667</td>\n",
              "    </tr>\n",
              "    <tr>\n",
              "      <th>3</th>\n",
              "      <td>26.0</td>\n",
              "      <td>65.0</td>\n",
              "      <td>1.21</td>\n",
              "      <td>44.395875</td>\n",
              "    </tr>\n",
              "    <tr>\n",
              "      <th>4</th>\n",
              "      <td>68.0</td>\n",
              "      <td>50.0</td>\n",
              "      <td>1.32</td>\n",
              "      <td>28.696051</td>\n",
              "    </tr>\n",
              "    <tr>\n",
              "      <th>5</th>\n",
              "      <td>21.0</td>\n",
              "      <td>43.0</td>\n",
              "      <td>1.52</td>\n",
              "      <td>18.611496</td>\n",
              "    </tr>\n",
              "    <tr>\n",
              "      <th>6</th>\n",
              "      <td>10.0</td>\n",
              "      <td>32.0</td>\n",
              "      <td>1.65</td>\n",
              "      <td>11.753903</td>\n",
              "    </tr>\n",
              "    <tr>\n",
              "      <th>7</th>\n",
              "      <td>57.0</td>\n",
              "      <td>34.0</td>\n",
              "      <td>1.61</td>\n",
              "      <td>13.116778</td>\n",
              "    </tr>\n",
              "    <tr>\n",
              "      <th>8</th>\n",
              "      <td>75.0</td>\n",
              "      <td>23.0</td>\n",
              "      <td>1.24</td>\n",
              "      <td>14.958377</td>\n",
              "    </tr>\n",
              "    <tr>\n",
              "      <th>9</th>\n",
              "      <td>32.0</td>\n",
              "      <td>21.0</td>\n",
              "      <td>1.52</td>\n",
              "      <td>9.089335</td>\n",
              "    </tr>\n",
              "    <tr>\n",
              "      <th>10</th>\n",
              "      <td>23.0</td>\n",
              "      <td>53.0</td>\n",
              "      <td>1.50</td>\n",
              "      <td>23.555556</td>\n",
              "    </tr>\n",
              "    <tr>\n",
              "      <th>11</th>\n",
              "      <td>34.0</td>\n",
              "      <td>65.0</td>\n",
              "      <td>1.76</td>\n",
              "      <td>20.983988</td>\n",
              "    </tr>\n",
              "    <tr>\n",
              "      <th>12</th>\n",
              "      <td>55.0</td>\n",
              "      <td>89.0</td>\n",
              "      <td>1.65</td>\n",
              "      <td>32.690542</td>\n",
              "    </tr>\n",
              "    <tr>\n",
              "      <th>13</th>\n",
              "      <td>23.0</td>\n",
              "      <td>45.0</td>\n",
              "      <td>1.75</td>\n",
              "      <td>14.693878</td>\n",
              "    </tr>\n",
              "    <tr>\n",
              "      <th>14</th>\n",
              "      <td>56.0</td>\n",
              "      <td>76.0</td>\n",
              "      <td>1.69</td>\n",
              "      <td>26.609713</td>\n",
              "    </tr>\n",
              "    <tr>\n",
              "      <th>15</th>\n",
              "      <td>67.0</td>\n",
              "      <td>78.0</td>\n",
              "      <td>1.85</td>\n",
              "      <td>22.790358</td>\n",
              "    </tr>\n",
              "    <tr>\n",
              "      <th>16</th>\n",
              "      <td>26.0</td>\n",
              "      <td>65.0</td>\n",
              "      <td>1.21</td>\n",
              "      <td>44.395875</td>\n",
              "    </tr>\n",
              "    <tr>\n",
              "      <th>17</th>\n",
              "      <td>56.0</td>\n",
              "      <td>74.0</td>\n",
              "      <td>1.69</td>\n",
              "      <td>25.909457</td>\n",
              "    </tr>\n",
              "    <tr>\n",
              "      <th>18</th>\n",
              "      <td>67.0</td>\n",
              "      <td>78.0</td>\n",
              "      <td>1.85</td>\n",
              "      <td>22.790358</td>\n",
              "    </tr>\n",
              "    <tr>\n",
              "      <th>19</th>\n",
              "      <td>26.0</td>\n",
              "      <td>65.0</td>\n",
              "      <td>1.21</td>\n",
              "      <td>44.395875</td>\n",
              "    </tr>\n",
              "    <tr>\n",
              "      <th>20</th>\n",
              "      <td>68.0</td>\n",
              "      <td>50.0</td>\n",
              "      <td>1.32</td>\n",
              "      <td>28.696051</td>\n",
              "    </tr>\n",
              "    <tr>\n",
              "      <th>21</th>\n",
              "      <td>56.0</td>\n",
              "      <td>76.0</td>\n",
              "      <td>1.69</td>\n",
              "      <td>26.609713</td>\n",
              "    </tr>\n",
              "    <tr>\n",
              "      <th>22</th>\n",
              "      <td>67.0</td>\n",
              "      <td>78.0</td>\n",
              "      <td>1.85</td>\n",
              "      <td>22.790358</td>\n",
              "    </tr>\n",
              "    <tr>\n",
              "      <th>23</th>\n",
              "      <td>45.0</td>\n",
              "      <td>85.0</td>\n",
              "      <td>1.80</td>\n",
              "      <td>26.300000</td>\n",
              "    </tr>\n",
              "  </tbody>\n",
              "</table>\n",
              "</div>"
            ],
            "text/plain": [
              "     Age  Weight (in kg)  Height (in m)        BMI\n",
              "0   45.0            60.0           1.35  32.921811\n",
              "1   12.0            43.0           1.21  29.369579\n",
              "2   54.0            78.0           1.50  34.666667\n",
              "3   26.0            65.0           1.21  44.395875\n",
              "4   68.0            50.0           1.32  28.696051\n",
              "5   21.0            43.0           1.52  18.611496\n",
              "6   10.0            32.0           1.65  11.753903\n",
              "7   57.0            34.0           1.61  13.116778\n",
              "8   75.0            23.0           1.24  14.958377\n",
              "9   32.0            21.0           1.52   9.089335\n",
              "10  23.0            53.0           1.50  23.555556\n",
              "11  34.0            65.0           1.76  20.983988\n",
              "12  55.0            89.0           1.65  32.690542\n",
              "13  23.0            45.0           1.75  14.693878\n",
              "14  56.0            76.0           1.69  26.609713\n",
              "15  67.0            78.0           1.85  22.790358\n",
              "16  26.0            65.0           1.21  44.395875\n",
              "17  56.0            74.0           1.69  25.909457\n",
              "18  67.0            78.0           1.85  22.790358\n",
              "19  26.0            65.0           1.21  44.395875\n",
              "20  68.0            50.0           1.32  28.696051\n",
              "21  56.0            76.0           1.69  26.609713\n",
              "22  67.0            78.0           1.85  22.790358\n",
              "23  45.0            85.0           1.80  26.300000"
            ]
          },
          "execution_count": 61,
          "metadata": {},
          "output_type": "execute_result"
        }
      ],
      "source": [
        "data_copy"
      ]
    },
    {
      "cell_type": "markdown",
      "metadata": {
        "id": "_F1_GjV9f9m6"
      },
      "source": [
        "We see that a new column number 23 has be added to the data."
      ]
    },
    {
      "cell_type": "markdown",
      "metadata": {
        "id": "7CfilfMDf9m6"
      },
      "source": [
        "**3. Indexing a dataframe using `.iloc`**\n",
        "\n",
        "`DataFrame.iloc[]` method is used when the index label of a data frame is something other than numeric series of 0, 1, 2, 3….n or in case the user doesn’t know the index label."
      ]
    },
    {
      "cell_type": "markdown",
      "metadata": {
        "id": "GF0VPsc-f9m6"
      },
      "source": [
        "We shall work on the BMI data set.\n",
        "\n",
        "#### Select the 2nd row"
      ]
    },
    {
      "cell_type": "code",
      "execution_count": null,
      "metadata": {
        "id": "bIgzyiSAf9m6",
        "outputId": "07a9c77d-8d6d-419c-92ae-f4c7a9d343a8"
      },
      "outputs": [
        {
          "data": {
            "text/plain": [
              "Age               54.000000\n",
              "Weight (in kg)    78.000000\n",
              "Height (in m)      1.500000\n",
              "BMI               34.666667\n",
              "Name: 2, dtype: float64"
            ]
          },
          "execution_count": 62,
          "metadata": {},
          "output_type": "execute_result"
        }
      ],
      "source": [
        "data.iloc[2]"
      ]
    },
    {
      "cell_type": "markdown",
      "metadata": {
        "id": "gAi96y0Nf9m6"
      },
      "source": [
        "#### Select 4th, 7th and 10th rows"
      ]
    },
    {
      "cell_type": "code",
      "execution_count": null,
      "metadata": {
        "id": "YbIfNJ6df9m6",
        "outputId": "2e9ccdfb-8c95-47a0-9c15-a039965724de"
      },
      "outputs": [
        {
          "data": {
            "text/html": [
              "<div>\n",
              "<style scoped>\n",
              "    .dataframe tbody tr th:only-of-type {\n",
              "        vertical-align: middle;\n",
              "    }\n",
              "\n",
              "    .dataframe tbody tr th {\n",
              "        vertical-align: top;\n",
              "    }\n",
              "\n",
              "    .dataframe thead th {\n",
              "        text-align: right;\n",
              "    }\n",
              "</style>\n",
              "<table border=\"1\" class=\"dataframe\">\n",
              "  <thead>\n",
              "    <tr style=\"text-align: right;\">\n",
              "      <th></th>\n",
              "      <th>Age</th>\n",
              "      <th>Weight (in kg)</th>\n",
              "      <th>Height (in m)</th>\n",
              "      <th>BMI</th>\n",
              "    </tr>\n",
              "  </thead>\n",
              "  <tbody>\n",
              "    <tr>\n",
              "      <th>4</th>\n",
              "      <td>68</td>\n",
              "      <td>50</td>\n",
              "      <td>1.32</td>\n",
              "      <td>28.696051</td>\n",
              "    </tr>\n",
              "    <tr>\n",
              "      <th>7</th>\n",
              "      <td>57</td>\n",
              "      <td>34</td>\n",
              "      <td>1.61</td>\n",
              "      <td>13.116778</td>\n",
              "    </tr>\n",
              "    <tr>\n",
              "      <th>10</th>\n",
              "      <td>23</td>\n",
              "      <td>53</td>\n",
              "      <td>1.50</td>\n",
              "      <td>23.555556</td>\n",
              "    </tr>\n",
              "  </tbody>\n",
              "</table>\n",
              "</div>"
            ],
            "text/plain": [
              "    Age  Weight (in kg)  Height (in m)        BMI\n",
              "4    68              50           1.32  28.696051\n",
              "7    57              34           1.61  13.116778\n",
              "10   23              53           1.50  23.555556"
            ]
          },
          "execution_count": 63,
          "metadata": {},
          "output_type": "execute_result"
        }
      ],
      "source": [
        "data.iloc[[4,7,10]]"
      ]
    },
    {
      "cell_type": "markdown",
      "metadata": {
        "id": "hURtKG0wf9m6"
      },
      "source": [
        "We use two square brackets since we are passing a list of row numbers to be accessed."
      ]
    },
    {
      "cell_type": "markdown",
      "metadata": {
        "id": "0p3xxHj4f9m6"
      },
      "source": [
        "#### Select 12th to 17th rows"
      ]
    },
    {
      "cell_type": "code",
      "execution_count": null,
      "metadata": {
        "id": "BO4EeNPcf9m7",
        "outputId": "7500d764-5ce0-4f82-9797-49dd5b11185b"
      },
      "outputs": [
        {
          "data": {
            "text/html": [
              "<div>\n",
              "<style scoped>\n",
              "    .dataframe tbody tr th:only-of-type {\n",
              "        vertical-align: middle;\n",
              "    }\n",
              "\n",
              "    .dataframe tbody tr th {\n",
              "        vertical-align: top;\n",
              "    }\n",
              "\n",
              "    .dataframe thead th {\n",
              "        text-align: right;\n",
              "    }\n",
              "</style>\n",
              "<table border=\"1\" class=\"dataframe\">\n",
              "  <thead>\n",
              "    <tr style=\"text-align: right;\">\n",
              "      <th></th>\n",
              "      <th>Age</th>\n",
              "      <th>Weight (in kg)</th>\n",
              "      <th>Height (in m)</th>\n",
              "      <th>BMI</th>\n",
              "    </tr>\n",
              "  </thead>\n",
              "  <tbody>\n",
              "    <tr>\n",
              "      <th>12</th>\n",
              "      <td>55</td>\n",
              "      <td>89</td>\n",
              "      <td>1.65</td>\n",
              "      <td>32.690542</td>\n",
              "    </tr>\n",
              "    <tr>\n",
              "      <th>13</th>\n",
              "      <td>23</td>\n",
              "      <td>45</td>\n",
              "      <td>1.75</td>\n",
              "      <td>14.693878</td>\n",
              "    </tr>\n",
              "    <tr>\n",
              "      <th>14</th>\n",
              "      <td>56</td>\n",
              "      <td>76</td>\n",
              "      <td>1.69</td>\n",
              "      <td>26.609713</td>\n",
              "    </tr>\n",
              "    <tr>\n",
              "      <th>15</th>\n",
              "      <td>67</td>\n",
              "      <td>78</td>\n",
              "      <td>1.85</td>\n",
              "      <td>22.790358</td>\n",
              "    </tr>\n",
              "    <tr>\n",
              "      <th>16</th>\n",
              "      <td>26</td>\n",
              "      <td>65</td>\n",
              "      <td>1.21</td>\n",
              "      <td>44.395875</td>\n",
              "    </tr>\n",
              "  </tbody>\n",
              "</table>\n",
              "</div>"
            ],
            "text/plain": [
              "    Age  Weight (in kg)  Height (in m)        BMI\n",
              "12   55              89           1.65  32.690542\n",
              "13   23              45           1.75  14.693878\n",
              "14   56              76           1.69  26.609713\n",
              "15   67              78           1.85  22.790358\n",
              "16   26              65           1.21  44.395875"
            ]
          },
          "execution_count": 64,
          "metadata": {},
          "output_type": "execute_result"
        }
      ],
      "source": [
        "data.iloc[12:17]"
      ]
    },
    {
      "cell_type": "markdown",
      "metadata": {
        "id": "8W6Ens2Ef9m7"
      },
      "source": [
        "#### Select the 1st column"
      ]
    },
    {
      "cell_type": "code",
      "execution_count": null,
      "metadata": {
        "id": "KKLKTMchf9m7",
        "outputId": "79909e53-ff58-4d1f-dec3-cb5eeee5938b"
      },
      "outputs": [
        {
          "data": {
            "text/plain": [
              "0     60\n",
              "1     43\n",
              "2     78\n",
              "3     65\n",
              "4     50\n",
              "5     43\n",
              "6     32\n",
              "7     34\n",
              "8     23\n",
              "9     21\n",
              "10    53\n",
              "11    65\n",
              "12    89\n",
              "13    45\n",
              "14    76\n",
              "15    78\n",
              "16    65\n",
              "17    74\n",
              "18    78\n",
              "19    65\n",
              "20    50\n",
              "21    76\n",
              "22    78\n",
              "Name: Weight (in kg), dtype: int64"
            ]
          },
          "execution_count": 65,
          "metadata": {},
          "output_type": "execute_result"
        }
      ],
      "source": [
        "data.iloc[:, 1]"
      ]
    },
    {
      "cell_type": "markdown",
      "metadata": {
        "id": "6VBEgnApf9m7"
      },
      "source": [
        "#### Select the last column"
      ]
    },
    {
      "cell_type": "code",
      "execution_count": null,
      "metadata": {
        "id": "_DyjFX9pf9m7",
        "outputId": "c787678d-41af-43bc-d2e0-454698b98a14"
      },
      "outputs": [
        {
          "data": {
            "text/plain": [
              "0     32.921811\n",
              "1     29.369579\n",
              "2     34.666667\n",
              "3     44.395875\n",
              "4     28.696051\n",
              "5     18.611496\n",
              "6     11.753903\n",
              "7     13.116778\n",
              "8     14.958377\n",
              "9      9.089335\n",
              "10    23.555556\n",
              "11    20.983988\n",
              "12    32.690542\n",
              "13    14.693878\n",
              "14    26.609713\n",
              "15    22.790358\n",
              "16    44.395875\n",
              "17    25.909457\n",
              "18    22.790358\n",
              "19    44.395875\n",
              "20    28.696051\n",
              "21    26.609713\n",
              "22    22.790358\n",
              "Name: BMI, dtype: float64"
            ]
          },
          "execution_count": 66,
          "metadata": {},
          "output_type": "execute_result"
        }
      ],
      "source": [
        "data.iloc[:,-1]"
      ]
    },
    {
      "cell_type": "markdown",
      "metadata": {
        "id": "RcTC4uBJf9m7"
      },
      "source": [
        "To select the last column we use -1, to select the second last column we use -2"
      ]
    },
    {
      "cell_type": "markdown",
      "metadata": {
        "id": "s-OqDlyFf9m7"
      },
      "source": [
        "#### Select the first two columns"
      ]
    },
    {
      "cell_type": "code",
      "source": [],
      "metadata": {
        "id": "EWiwWqHRlPVW"
      },
      "execution_count": null,
      "outputs": []
    },
    {
      "cell_type": "markdown",
      "source": [],
      "metadata": {
        "id": "tSFaOwFnlP4F"
      }
    },
    {
      "cell_type": "code",
      "execution_count": null,
      "metadata": {
        "id": "IbRj07ZTf9m7",
        "outputId": "9010820a-051f-4b4f-deba-0e2f99098540"
      },
      "outputs": [
        {
          "data": {
            "text/html": [
              "<div>\n",
              "<style scoped>\n",
              "    .dataframe tbody tr th:only-of-type {\n",
              "        vertical-align: middle;\n",
              "    }\n",
              "\n",
              "    .dataframe tbody tr th {\n",
              "        vertical-align: top;\n",
              "    }\n",
              "\n",
              "    .dataframe thead th {\n",
              "        text-align: right;\n",
              "    }\n",
              "</style>\n",
              "<table border=\"1\" class=\"dataframe\">\n",
              "  <thead>\n",
              "    <tr style=\"text-align: right;\">\n",
              "      <th></th>\n",
              "      <th>Age</th>\n",
              "      <th>Weight (in kg)</th>\n",
              "    </tr>\n",
              "  </thead>\n",
              "  <tbody>\n",
              "    <tr>\n",
              "      <th>0</th>\n",
              "      <td>45</td>\n",
              "      <td>60</td>\n",
              "    </tr>\n",
              "    <tr>\n",
              "      <th>1</th>\n",
              "      <td>12</td>\n",
              "      <td>43</td>\n",
              "    </tr>\n",
              "    <tr>\n",
              "      <th>2</th>\n",
              "      <td>54</td>\n",
              "      <td>78</td>\n",
              "    </tr>\n",
              "    <tr>\n",
              "      <th>3</th>\n",
              "      <td>26</td>\n",
              "      <td>65</td>\n",
              "    </tr>\n",
              "    <tr>\n",
              "      <th>4</th>\n",
              "      <td>68</td>\n",
              "      <td>50</td>\n",
              "    </tr>\n",
              "    <tr>\n",
              "      <th>5</th>\n",
              "      <td>21</td>\n",
              "      <td>43</td>\n",
              "    </tr>\n",
              "    <tr>\n",
              "      <th>6</th>\n",
              "      <td>10</td>\n",
              "      <td>32</td>\n",
              "    </tr>\n",
              "    <tr>\n",
              "      <th>7</th>\n",
              "      <td>57</td>\n",
              "      <td>34</td>\n",
              "    </tr>\n",
              "    <tr>\n",
              "      <th>8</th>\n",
              "      <td>75</td>\n",
              "      <td>23</td>\n",
              "    </tr>\n",
              "    <tr>\n",
              "      <th>9</th>\n",
              "      <td>32</td>\n",
              "      <td>21</td>\n",
              "    </tr>\n",
              "    <tr>\n",
              "      <th>10</th>\n",
              "      <td>23</td>\n",
              "      <td>53</td>\n",
              "    </tr>\n",
              "    <tr>\n",
              "      <th>11</th>\n",
              "      <td>34</td>\n",
              "      <td>65</td>\n",
              "    </tr>\n",
              "    <tr>\n",
              "      <th>12</th>\n",
              "      <td>55</td>\n",
              "      <td>89</td>\n",
              "    </tr>\n",
              "    <tr>\n",
              "      <th>13</th>\n",
              "      <td>23</td>\n",
              "      <td>45</td>\n",
              "    </tr>\n",
              "    <tr>\n",
              "      <th>14</th>\n",
              "      <td>56</td>\n",
              "      <td>76</td>\n",
              "    </tr>\n",
              "    <tr>\n",
              "      <th>15</th>\n",
              "      <td>67</td>\n",
              "      <td>78</td>\n",
              "    </tr>\n",
              "    <tr>\n",
              "      <th>16</th>\n",
              "      <td>26</td>\n",
              "      <td>65</td>\n",
              "    </tr>\n",
              "    <tr>\n",
              "      <th>17</th>\n",
              "      <td>56</td>\n",
              "      <td>74</td>\n",
              "    </tr>\n",
              "    <tr>\n",
              "      <th>18</th>\n",
              "      <td>67</td>\n",
              "      <td>78</td>\n",
              "    </tr>\n",
              "    <tr>\n",
              "      <th>19</th>\n",
              "      <td>26</td>\n",
              "      <td>65</td>\n",
              "    </tr>\n",
              "    <tr>\n",
              "      <th>20</th>\n",
              "      <td>68</td>\n",
              "      <td>50</td>\n",
              "    </tr>\n",
              "    <tr>\n",
              "      <th>21</th>\n",
              "      <td>56</td>\n",
              "      <td>76</td>\n",
              "    </tr>\n",
              "    <tr>\n",
              "      <th>22</th>\n",
              "      <td>67</td>\n",
              "      <td>78</td>\n",
              "    </tr>\n",
              "  </tbody>\n",
              "</table>\n",
              "</div>"
            ],
            "text/plain": [
              "    Age  Weight (in kg)\n",
              "0    45              60\n",
              "1    12              43\n",
              "2    54              78\n",
              "3    26              65\n",
              "4    68              50\n",
              "5    21              43\n",
              "6    10              32\n",
              "7    57              34\n",
              "8    75              23\n",
              "9    32              21\n",
              "10   23              53\n",
              "11   34              65\n",
              "12   55              89\n",
              "13   23              45\n",
              "14   56              76\n",
              "15   67              78\n",
              "16   26              65\n",
              "17   56              74\n",
              "18   67              78\n",
              "19   26              65\n",
              "20   68              50\n",
              "21   56              76\n",
              "22   67              78"
            ]
          },
          "execution_count": 67,
          "metadata": {},
          "output_type": "execute_result"
        }
      ],
      "source": [
        "data.iloc[:,0:2]"
      ]
    },
    {
      "cell_type": "markdown",
      "metadata": {
        "id": "Ukr06LFtf9m7"
      },
      "source": [
        "#### Select the first two columns and 5 to 10 rows"
      ]
    },
    {
      "cell_type": "code",
      "execution_count": null,
      "metadata": {
        "id": "sAqI-RUYf9m7",
        "outputId": "d4bcb4c5-8e12-42b2-b1d9-8638578a351f"
      },
      "outputs": [
        {
          "data": {
            "text/html": [
              "<div>\n",
              "<style scoped>\n",
              "    .dataframe tbody tr th:only-of-type {\n",
              "        vertical-align: middle;\n",
              "    }\n",
              "\n",
              "    .dataframe tbody tr th {\n",
              "        vertical-align: top;\n",
              "    }\n",
              "\n",
              "    .dataframe thead th {\n",
              "        text-align: right;\n",
              "    }\n",
              "</style>\n",
              "<table border=\"1\" class=\"dataframe\">\n",
              "  <thead>\n",
              "    <tr style=\"text-align: right;\">\n",
              "      <th></th>\n",
              "      <th>Age</th>\n",
              "      <th>Weight (in kg)</th>\n",
              "    </tr>\n",
              "  </thead>\n",
              "  <tbody>\n",
              "    <tr>\n",
              "      <th>5</th>\n",
              "      <td>21</td>\n",
              "      <td>43</td>\n",
              "    </tr>\n",
              "    <tr>\n",
              "      <th>6</th>\n",
              "      <td>10</td>\n",
              "      <td>32</td>\n",
              "    </tr>\n",
              "    <tr>\n",
              "      <th>7</th>\n",
              "      <td>57</td>\n",
              "      <td>34</td>\n",
              "    </tr>\n",
              "    <tr>\n",
              "      <th>8</th>\n",
              "      <td>75</td>\n",
              "      <td>23</td>\n",
              "    </tr>\n",
              "    <tr>\n",
              "      <th>9</th>\n",
              "      <td>32</td>\n",
              "      <td>21</td>\n",
              "    </tr>\n",
              "    <tr>\n",
              "      <th>10</th>\n",
              "      <td>23</td>\n",
              "      <td>53</td>\n",
              "    </tr>\n",
              "  </tbody>\n",
              "</table>\n",
              "</div>"
            ],
            "text/plain": [
              "    Age  Weight (in kg)\n",
              "5    21              43\n",
              "6    10              32\n",
              "7    57              34\n",
              "8    75              23\n",
              "9    32              21\n",
              "10   23              53"
            ]
          },
          "execution_count": 68,
          "metadata": {},
          "output_type": "execute_result"
        }
      ],
      "source": [
        "data.iloc[5:11, 0:2]"
      ]
    },
    {
      "cell_type": "markdown",
      "metadata": {
        "id": "_ehODJx7f9m7"
      },
      "source": [
        "**4. Indexing a dataframe using `.loc`**\n",
        "\n",
        "`DataFrame.loc[]` method is a method that takes only index labels and returns row or dataframe if the index label exists in the caller data frame. <br>\n",
        "`DataFrame.loc[Row_names, column_names]` is used to select or index rows or columns based on their name."
      ]
    },
    {
      "cell_type": "markdown",
      "metadata": {
        "id": "kHhnDNPkf9m7"
      },
      "source": [
        "#### Select 1 to 5 rows and 2nd and 4th columns"
      ]
    },
    {
      "cell_type": "code",
      "execution_count": null,
      "metadata": {
        "id": "VZY1HpXHf9m7",
        "outputId": "366f19d6-27a3-4450-968b-8ed622334b00"
      },
      "outputs": [
        {
          "data": {
            "text/html": [
              "<div>\n",
              "<style scoped>\n",
              "    .dataframe tbody tr th:only-of-type {\n",
              "        vertical-align: middle;\n",
              "    }\n",
              "\n",
              "    .dataframe tbody tr th {\n",
              "        vertical-align: top;\n",
              "    }\n",
              "\n",
              "    .dataframe thead th {\n",
              "        text-align: right;\n",
              "    }\n",
              "</style>\n",
              "<table border=\"1\" class=\"dataframe\">\n",
              "  <thead>\n",
              "    <tr style=\"text-align: right;\">\n",
              "      <th></th>\n",
              "      <th>Weight (in kg)</th>\n",
              "      <th>BMI</th>\n",
              "    </tr>\n",
              "  </thead>\n",
              "  <tbody>\n",
              "    <tr>\n",
              "      <th>1</th>\n",
              "      <td>43</td>\n",
              "      <td>29.369579</td>\n",
              "    </tr>\n",
              "    <tr>\n",
              "      <th>2</th>\n",
              "      <td>78</td>\n",
              "      <td>34.666667</td>\n",
              "    </tr>\n",
              "    <tr>\n",
              "      <th>3</th>\n",
              "      <td>65</td>\n",
              "      <td>44.395875</td>\n",
              "    </tr>\n",
              "    <tr>\n",
              "      <th>4</th>\n",
              "      <td>50</td>\n",
              "      <td>28.696051</td>\n",
              "    </tr>\n",
              "    <tr>\n",
              "      <th>5</th>\n",
              "      <td>43</td>\n",
              "      <td>18.611496</td>\n",
              "    </tr>\n",
              "  </tbody>\n",
              "</table>\n",
              "</div>"
            ],
            "text/plain": [
              "   Weight (in kg)        BMI\n",
              "1              43  29.369579\n",
              "2              78  34.666667\n",
              "3              65  44.395875\n",
              "4              50  28.696051\n",
              "5              43  18.611496"
            ]
          },
          "execution_count": 69,
          "metadata": {},
          "output_type": "execute_result"
        }
      ],
      "source": [
        "data.loc[1:5,[\"Weight (in kg)\",\"BMI\"]]"
      ]
    },
    {
      "cell_type": "markdown",
      "metadata": {
        "id": "hU1auoVlf9m7"
      },
      "source": [
        "**Note:** the row names are numbers"
      ]
    },
    {
      "cell_type": "markdown",
      "metadata": {
        "id": "cTQgLpBBf9m7"
      },
      "source": [
        "**5. Selecting columns by specifying column names**"
      ]
    },
    {
      "cell_type": "markdown",
      "metadata": {
        "id": "1OzubBEpf9m7"
      },
      "source": [
        "#### Select the column 'Age'"
      ]
    },
    {
      "cell_type": "code",
      "execution_count": null,
      "metadata": {
        "id": "Pxh6F4w6f9m7",
        "outputId": "82c0ba35-e1ed-489c-90df-3605656e8598"
      },
      "outputs": [
        {
          "data": {
            "text/plain": [
              "0     45\n",
              "1     12\n",
              "2     54\n",
              "3     26\n",
              "4     68\n",
              "5     21\n",
              "6     10\n",
              "7     57\n",
              "8     75\n",
              "9     32\n",
              "10    23\n",
              "11    34\n",
              "12    55\n",
              "13    23\n",
              "14    56\n",
              "15    67\n",
              "16    26\n",
              "17    56\n",
              "18    67\n",
              "19    26\n",
              "20    68\n",
              "21    56\n",
              "22    67\n",
              "Name: Age, dtype: int64"
            ]
          },
          "execution_count": 70,
          "metadata": {},
          "output_type": "execute_result"
        }
      ],
      "source": [
        "data.Age"
      ]
    },
    {
      "cell_type": "markdown",
      "metadata": {
        "id": "Zu6yYjKjf9m7"
      },
      "source": [
        "**Remark:** Using this method we can select only one column."
      ]
    },
    {
      "cell_type": "code",
      "execution_count": null,
      "metadata": {
        "id": "8cjrYeaTf9m8",
        "outputId": "23422020-6352-49a7-a5c2-862cd7e3a2cb"
      },
      "outputs": [
        {
          "data": {
            "text/plain": [
              "0     45\n",
              "1     12\n",
              "2     54\n",
              "3     26\n",
              "4     68\n",
              "5     21\n",
              "6     10\n",
              "7     57\n",
              "8     75\n",
              "9     32\n",
              "10    23\n",
              "11    34\n",
              "12    55\n",
              "13    23\n",
              "14    56\n",
              "15    67\n",
              "16    26\n",
              "17    56\n",
              "18    67\n",
              "19    26\n",
              "20    68\n",
              "21    56\n",
              "22    67\n",
              "Name: Age, dtype: int64"
            ]
          },
          "execution_count": 71,
          "metadata": {},
          "output_type": "execute_result"
        }
      ],
      "source": [
        "# OR\n",
        "data[\"Age\"]"
      ]
    },
    {
      "cell_type": "markdown",
      "metadata": {
        "id": "1I_8-zBZf9m8"
      },
      "source": [
        "#### Select the column 'Age' and 'BMI'"
      ]
    },
    {
      "cell_type": "code",
      "execution_count": null,
      "metadata": {
        "id": "qMzbze6nf9m8",
        "outputId": "980463b3-2a5f-4e0c-e7a0-68d404b8f9e3"
      },
      "outputs": [
        {
          "data": {
            "text/html": [
              "<div>\n",
              "<style scoped>\n",
              "    .dataframe tbody tr th:only-of-type {\n",
              "        vertical-align: middle;\n",
              "    }\n",
              "\n",
              "    .dataframe tbody tr th {\n",
              "        vertical-align: top;\n",
              "    }\n",
              "\n",
              "    .dataframe thead th {\n",
              "        text-align: right;\n",
              "    }\n",
              "</style>\n",
              "<table border=\"1\" class=\"dataframe\">\n",
              "  <thead>\n",
              "    <tr style=\"text-align: right;\">\n",
              "      <th></th>\n",
              "      <th>Age</th>\n",
              "      <th>BMI</th>\n",
              "    </tr>\n",
              "  </thead>\n",
              "  <tbody>\n",
              "    <tr>\n",
              "      <th>0</th>\n",
              "      <td>45</td>\n",
              "      <td>32.921811</td>\n",
              "    </tr>\n",
              "    <tr>\n",
              "      <th>1</th>\n",
              "      <td>12</td>\n",
              "      <td>29.369579</td>\n",
              "    </tr>\n",
              "    <tr>\n",
              "      <th>2</th>\n",
              "      <td>54</td>\n",
              "      <td>34.666667</td>\n",
              "    </tr>\n",
              "    <tr>\n",
              "      <th>3</th>\n",
              "      <td>26</td>\n",
              "      <td>44.395875</td>\n",
              "    </tr>\n",
              "    <tr>\n",
              "      <th>4</th>\n",
              "      <td>68</td>\n",
              "      <td>28.696051</td>\n",
              "    </tr>\n",
              "    <tr>\n",
              "      <th>5</th>\n",
              "      <td>21</td>\n",
              "      <td>18.611496</td>\n",
              "    </tr>\n",
              "    <tr>\n",
              "      <th>6</th>\n",
              "      <td>10</td>\n",
              "      <td>11.753903</td>\n",
              "    </tr>\n",
              "    <tr>\n",
              "      <th>7</th>\n",
              "      <td>57</td>\n",
              "      <td>13.116778</td>\n",
              "    </tr>\n",
              "    <tr>\n",
              "      <th>8</th>\n",
              "      <td>75</td>\n",
              "      <td>14.958377</td>\n",
              "    </tr>\n",
              "    <tr>\n",
              "      <th>9</th>\n",
              "      <td>32</td>\n",
              "      <td>9.089335</td>\n",
              "    </tr>\n",
              "    <tr>\n",
              "      <th>10</th>\n",
              "      <td>23</td>\n",
              "      <td>23.555556</td>\n",
              "    </tr>\n",
              "    <tr>\n",
              "      <th>11</th>\n",
              "      <td>34</td>\n",
              "      <td>20.983988</td>\n",
              "    </tr>\n",
              "    <tr>\n",
              "      <th>12</th>\n",
              "      <td>55</td>\n",
              "      <td>32.690542</td>\n",
              "    </tr>\n",
              "    <tr>\n",
              "      <th>13</th>\n",
              "      <td>23</td>\n",
              "      <td>14.693878</td>\n",
              "    </tr>\n",
              "    <tr>\n",
              "      <th>14</th>\n",
              "      <td>56</td>\n",
              "      <td>26.609713</td>\n",
              "    </tr>\n",
              "    <tr>\n",
              "      <th>15</th>\n",
              "      <td>67</td>\n",
              "      <td>22.790358</td>\n",
              "    </tr>\n",
              "    <tr>\n",
              "      <th>16</th>\n",
              "      <td>26</td>\n",
              "      <td>44.395875</td>\n",
              "    </tr>\n",
              "    <tr>\n",
              "      <th>17</th>\n",
              "      <td>56</td>\n",
              "      <td>25.909457</td>\n",
              "    </tr>\n",
              "    <tr>\n",
              "      <th>18</th>\n",
              "      <td>67</td>\n",
              "      <td>22.790358</td>\n",
              "    </tr>\n",
              "    <tr>\n",
              "      <th>19</th>\n",
              "      <td>26</td>\n",
              "      <td>44.395875</td>\n",
              "    </tr>\n",
              "    <tr>\n",
              "      <th>20</th>\n",
              "      <td>68</td>\n",
              "      <td>28.696051</td>\n",
              "    </tr>\n",
              "    <tr>\n",
              "      <th>21</th>\n",
              "      <td>56</td>\n",
              "      <td>26.609713</td>\n",
              "    </tr>\n",
              "    <tr>\n",
              "      <th>22</th>\n",
              "      <td>67</td>\n",
              "      <td>22.790358</td>\n",
              "    </tr>\n",
              "  </tbody>\n",
              "</table>\n",
              "</div>"
            ],
            "text/plain": [
              "    Age        BMI\n",
              "0    45  32.921811\n",
              "1    12  29.369579\n",
              "2    54  34.666667\n",
              "3    26  44.395875\n",
              "4    68  28.696051\n",
              "5    21  18.611496\n",
              "6    10  11.753903\n",
              "7    57  13.116778\n",
              "8    75  14.958377\n",
              "9    32   9.089335\n",
              "10   23  23.555556\n",
              "11   34  20.983988\n",
              "12   55  32.690542\n",
              "13   23  14.693878\n",
              "14   56  26.609713\n",
              "15   67  22.790358\n",
              "16   26  44.395875\n",
              "17   56  25.909457\n",
              "18   67  22.790358\n",
              "19   26  44.395875\n",
              "20   68  28.696051\n",
              "21   56  26.609713\n",
              "22   67  22.790358"
            ]
          },
          "execution_count": 72,
          "metadata": {},
          "output_type": "execute_result"
        }
      ],
      "source": [
        "data[[\"Age\",\"BMI\"]]"
      ]
    },
    {
      "cell_type": "markdown",
      "metadata": {
        "id": "idC6rLiff9m8"
      },
      "source": [
        "**6. Sort the data frame on the basis of values in a column **"
      ]
    },
    {
      "cell_type": "markdown",
      "metadata": {
        "id": "Mvi2eRr3f9m8"
      },
      "source": [
        "Each column of a pandas DataFrame is treated as a pandas Series. The `.sort_values()` in DataFrames works similar to the `pandas.Series`"
      ]
    },
    {
      "cell_type": "code",
      "execution_count": null,
      "metadata": {
        "id": "41JjQR3of9m8",
        "outputId": "8b43001a-0039-4278-9680-c7b5239b991f"
      },
      "outputs": [
        {
          "data": {
            "text/html": [
              "<div>\n",
              "<style scoped>\n",
              "    .dataframe tbody tr th:only-of-type {\n",
              "        vertical-align: middle;\n",
              "    }\n",
              "\n",
              "    .dataframe tbody tr th {\n",
              "        vertical-align: top;\n",
              "    }\n",
              "\n",
              "    .dataframe thead th {\n",
              "        text-align: right;\n",
              "    }\n",
              "</style>\n",
              "<table border=\"1\" class=\"dataframe\">\n",
              "  <thead>\n",
              "    <tr style=\"text-align: right;\">\n",
              "      <th></th>\n",
              "      <th>Age</th>\n",
              "      <th>Weight (in kg)</th>\n",
              "      <th>Height (in m)</th>\n",
              "      <th>BMI</th>\n",
              "    </tr>\n",
              "  </thead>\n",
              "  <tbody>\n",
              "    <tr>\n",
              "      <th>0</th>\n",
              "      <td>45</td>\n",
              "      <td>60</td>\n",
              "      <td>1.35</td>\n",
              "      <td>32.921811</td>\n",
              "    </tr>\n",
              "    <tr>\n",
              "      <th>1</th>\n",
              "      <td>12</td>\n",
              "      <td>43</td>\n",
              "      <td>1.21</td>\n",
              "      <td>29.369579</td>\n",
              "    </tr>\n",
              "    <tr>\n",
              "      <th>2</th>\n",
              "      <td>54</td>\n",
              "      <td>78</td>\n",
              "      <td>1.50</td>\n",
              "      <td>34.666667</td>\n",
              "    </tr>\n",
              "    <tr>\n",
              "      <th>3</th>\n",
              "      <td>26</td>\n",
              "      <td>65</td>\n",
              "      <td>1.21</td>\n",
              "      <td>44.395875</td>\n",
              "    </tr>\n",
              "    <tr>\n",
              "      <th>4</th>\n",
              "      <td>68</td>\n",
              "      <td>50</td>\n",
              "      <td>1.32</td>\n",
              "      <td>28.696051</td>\n",
              "    </tr>\n",
              "  </tbody>\n",
              "</table>\n",
              "</div>"
            ],
            "text/plain": [
              "   Age  Weight (in kg)  Height (in m)        BMI\n",
              "0   45              60           1.35  32.921811\n",
              "1   12              43           1.21  29.369579\n",
              "2   54              78           1.50  34.666667\n",
              "3   26              65           1.21  44.395875\n",
              "4   68              50           1.32  28.696051"
            ]
          },
          "execution_count": 73,
          "metadata": {},
          "output_type": "execute_result"
        }
      ],
      "source": [
        "# print head() of 'data'\n",
        "data.head()"
      ]
    },
    {
      "cell_type": "code",
      "execution_count": null,
      "metadata": {
        "id": "0Mq7B-KEf9m8",
        "outputId": "27e5933f-64a7-4876-9910-f3c3f83b5146"
      },
      "outputs": [
        {
          "data": {
            "text/html": [
              "<div>\n",
              "<style scoped>\n",
              "    .dataframe tbody tr th:only-of-type {\n",
              "        vertical-align: middle;\n",
              "    }\n",
              "\n",
              "    .dataframe tbody tr th {\n",
              "        vertical-align: top;\n",
              "    }\n",
              "\n",
              "    .dataframe thead th {\n",
              "        text-align: right;\n",
              "    }\n",
              "</style>\n",
              "<table border=\"1\" class=\"dataframe\">\n",
              "  <thead>\n",
              "    <tr style=\"text-align: right;\">\n",
              "      <th></th>\n",
              "      <th>Age</th>\n",
              "      <th>Weight (in kg)</th>\n",
              "      <th>Height (in m)</th>\n",
              "      <th>BMI</th>\n",
              "    </tr>\n",
              "  </thead>\n",
              "  <tbody>\n",
              "    <tr>\n",
              "      <th>6</th>\n",
              "      <td>10</td>\n",
              "      <td>32</td>\n",
              "      <td>1.65</td>\n",
              "      <td>11.753903</td>\n",
              "    </tr>\n",
              "    <tr>\n",
              "      <th>1</th>\n",
              "      <td>12</td>\n",
              "      <td>43</td>\n",
              "      <td>1.21</td>\n",
              "      <td>29.369579</td>\n",
              "    </tr>\n",
              "    <tr>\n",
              "      <th>5</th>\n",
              "      <td>21</td>\n",
              "      <td>43</td>\n",
              "      <td>1.52</td>\n",
              "      <td>18.611496</td>\n",
              "    </tr>\n",
              "    <tr>\n",
              "      <th>13</th>\n",
              "      <td>23</td>\n",
              "      <td>45</td>\n",
              "      <td>1.75</td>\n",
              "      <td>14.693878</td>\n",
              "    </tr>\n",
              "    <tr>\n",
              "      <th>10</th>\n",
              "      <td>23</td>\n",
              "      <td>53</td>\n",
              "      <td>1.50</td>\n",
              "      <td>23.555556</td>\n",
              "    </tr>\n",
              "    <tr>\n",
              "      <th>19</th>\n",
              "      <td>26</td>\n",
              "      <td>65</td>\n",
              "      <td>1.21</td>\n",
              "      <td>44.395875</td>\n",
              "    </tr>\n",
              "    <tr>\n",
              "      <th>3</th>\n",
              "      <td>26</td>\n",
              "      <td>65</td>\n",
              "      <td>1.21</td>\n",
              "      <td>44.395875</td>\n",
              "    </tr>\n",
              "    <tr>\n",
              "      <th>16</th>\n",
              "      <td>26</td>\n",
              "      <td>65</td>\n",
              "      <td>1.21</td>\n",
              "      <td>44.395875</td>\n",
              "    </tr>\n",
              "    <tr>\n",
              "      <th>9</th>\n",
              "      <td>32</td>\n",
              "      <td>21</td>\n",
              "      <td>1.52</td>\n",
              "      <td>9.089335</td>\n",
              "    </tr>\n",
              "    <tr>\n",
              "      <th>11</th>\n",
              "      <td>34</td>\n",
              "      <td>65</td>\n",
              "      <td>1.76</td>\n",
              "      <td>20.983988</td>\n",
              "    </tr>\n",
              "    <tr>\n",
              "      <th>0</th>\n",
              "      <td>45</td>\n",
              "      <td>60</td>\n",
              "      <td>1.35</td>\n",
              "      <td>32.921811</td>\n",
              "    </tr>\n",
              "    <tr>\n",
              "      <th>2</th>\n",
              "      <td>54</td>\n",
              "      <td>78</td>\n",
              "      <td>1.50</td>\n",
              "      <td>34.666667</td>\n",
              "    </tr>\n",
              "    <tr>\n",
              "      <th>12</th>\n",
              "      <td>55</td>\n",
              "      <td>89</td>\n",
              "      <td>1.65</td>\n",
              "      <td>32.690542</td>\n",
              "    </tr>\n",
              "    <tr>\n",
              "      <th>21</th>\n",
              "      <td>56</td>\n",
              "      <td>76</td>\n",
              "      <td>1.69</td>\n",
              "      <td>26.609713</td>\n",
              "    </tr>\n",
              "    <tr>\n",
              "      <th>14</th>\n",
              "      <td>56</td>\n",
              "      <td>76</td>\n",
              "      <td>1.69</td>\n",
              "      <td>26.609713</td>\n",
              "    </tr>\n",
              "    <tr>\n",
              "      <th>17</th>\n",
              "      <td>56</td>\n",
              "      <td>74</td>\n",
              "      <td>1.69</td>\n",
              "      <td>25.909457</td>\n",
              "    </tr>\n",
              "    <tr>\n",
              "      <th>7</th>\n",
              "      <td>57</td>\n",
              "      <td>34</td>\n",
              "      <td>1.61</td>\n",
              "      <td>13.116778</td>\n",
              "    </tr>\n",
              "    <tr>\n",
              "      <th>15</th>\n",
              "      <td>67</td>\n",
              "      <td>78</td>\n",
              "      <td>1.85</td>\n",
              "      <td>22.790358</td>\n",
              "    </tr>\n",
              "    <tr>\n",
              "      <th>18</th>\n",
              "      <td>67</td>\n",
              "      <td>78</td>\n",
              "      <td>1.85</td>\n",
              "      <td>22.790358</td>\n",
              "    </tr>\n",
              "    <tr>\n",
              "      <th>22</th>\n",
              "      <td>67</td>\n",
              "      <td>78</td>\n",
              "      <td>1.85</td>\n",
              "      <td>22.790358</td>\n",
              "    </tr>\n",
              "    <tr>\n",
              "      <th>4</th>\n",
              "      <td>68</td>\n",
              "      <td>50</td>\n",
              "      <td>1.32</td>\n",
              "      <td>28.696051</td>\n",
              "    </tr>\n",
              "    <tr>\n",
              "      <th>20</th>\n",
              "      <td>68</td>\n",
              "      <td>50</td>\n",
              "      <td>1.32</td>\n",
              "      <td>28.696051</td>\n",
              "    </tr>\n",
              "    <tr>\n",
              "      <th>8</th>\n",
              "      <td>75</td>\n",
              "      <td>23</td>\n",
              "      <td>1.24</td>\n",
              "      <td>14.958377</td>\n",
              "    </tr>\n",
              "  </tbody>\n",
              "</table>\n",
              "</div>"
            ],
            "text/plain": [
              "    Age  Weight (in kg)  Height (in m)        BMI\n",
              "6    10              32           1.65  11.753903\n",
              "1    12              43           1.21  29.369579\n",
              "5    21              43           1.52  18.611496\n",
              "13   23              45           1.75  14.693878\n",
              "10   23              53           1.50  23.555556\n",
              "19   26              65           1.21  44.395875\n",
              "3    26              65           1.21  44.395875\n",
              "16   26              65           1.21  44.395875\n",
              "9    32              21           1.52   9.089335\n",
              "11   34              65           1.76  20.983988\n",
              "0    45              60           1.35  32.921811\n",
              "2    54              78           1.50  34.666667\n",
              "12   55              89           1.65  32.690542\n",
              "21   56              76           1.69  26.609713\n",
              "14   56              76           1.69  26.609713\n",
              "17   56              74           1.69  25.909457\n",
              "7    57              34           1.61  13.116778\n",
              "15   67              78           1.85  22.790358\n",
              "18   67              78           1.85  22.790358\n",
              "22   67              78           1.85  22.790358\n",
              "4    68              50           1.32  28.696051\n",
              "20   68              50           1.32  28.696051\n",
              "8    75              23           1.24  14.958377"
            ]
          },
          "execution_count": 74,
          "metadata": {},
          "output_type": "execute_result"
        }
      ],
      "source": [
        "# sort the data frame on basis of 'Age' values\n",
        "# by default the values will get sorted in ascending order\n",
        "data.sort_values('Age')\n",
        "\n",
        "#Note: 'ascending = False' will sort the data frame in descending order"
      ]
    },
    {
      "cell_type": "markdown",
      "metadata": {
        "id": "hEsJobNyf9m8"
      },
      "source": [
        "**7. Rank the dataframe**"
      ]
    },
    {
      "cell_type": "code",
      "execution_count": null,
      "metadata": {
        "id": "apXA3mKtf9m8",
        "outputId": "9d349c75-b5f6-41eb-b0ba-2ec1fb741ae6"
      },
      "outputs": [
        {
          "data": {
            "text/html": [
              "<div>\n",
              "<style scoped>\n",
              "    .dataframe tbody tr th:only-of-type {\n",
              "        vertical-align: middle;\n",
              "    }\n",
              "\n",
              "    .dataframe tbody tr th {\n",
              "        vertical-align: top;\n",
              "    }\n",
              "\n",
              "    .dataframe thead th {\n",
              "        text-align: right;\n",
              "    }\n",
              "</style>\n",
              "<table border=\"1\" class=\"dataframe\">\n",
              "  <thead>\n",
              "    <tr style=\"text-align: right;\">\n",
              "      <th></th>\n",
              "      <th>Age</th>\n",
              "      <th>Weight (in kg)</th>\n",
              "      <th>Height (in m)</th>\n",
              "      <th>BMI</th>\n",
              "      <th>BMI_ranked</th>\n",
              "    </tr>\n",
              "  </thead>\n",
              "  <tbody>\n",
              "    <tr>\n",
              "      <th>0</th>\n",
              "      <td>45</td>\n",
              "      <td>60</td>\n",
              "      <td>1.35</td>\n",
              "      <td>32.921811</td>\n",
              "      <td>5.0</td>\n",
              "    </tr>\n",
              "    <tr>\n",
              "      <th>1</th>\n",
              "      <td>12</td>\n",
              "      <td>43</td>\n",
              "      <td>1.21</td>\n",
              "      <td>29.369579</td>\n",
              "      <td>7.0</td>\n",
              "    </tr>\n",
              "    <tr>\n",
              "      <th>2</th>\n",
              "      <td>54</td>\n",
              "      <td>78</td>\n",
              "      <td>1.50</td>\n",
              "      <td>34.666667</td>\n",
              "      <td>4.0</td>\n",
              "    </tr>\n",
              "    <tr>\n",
              "      <th>3</th>\n",
              "      <td>26</td>\n",
              "      <td>65</td>\n",
              "      <td>1.21</td>\n",
              "      <td>44.395875</td>\n",
              "      <td>1.0</td>\n",
              "    </tr>\n",
              "    <tr>\n",
              "      <th>4</th>\n",
              "      <td>68</td>\n",
              "      <td>50</td>\n",
              "      <td>1.32</td>\n",
              "      <td>28.696051</td>\n",
              "      <td>8.0</td>\n",
              "    </tr>\n",
              "    <tr>\n",
              "      <th>5</th>\n",
              "      <td>21</td>\n",
              "      <td>43</td>\n",
              "      <td>1.52</td>\n",
              "      <td>18.611496</td>\n",
              "      <td>18.0</td>\n",
              "    </tr>\n",
              "    <tr>\n",
              "      <th>6</th>\n",
              "      <td>10</td>\n",
              "      <td>32</td>\n",
              "      <td>1.65</td>\n",
              "      <td>11.753903</td>\n",
              "      <td>22.0</td>\n",
              "    </tr>\n",
              "    <tr>\n",
              "      <th>7</th>\n",
              "      <td>57</td>\n",
              "      <td>34</td>\n",
              "      <td>1.61</td>\n",
              "      <td>13.116778</td>\n",
              "      <td>21.0</td>\n",
              "    </tr>\n",
              "    <tr>\n",
              "      <th>8</th>\n",
              "      <td>75</td>\n",
              "      <td>23</td>\n",
              "      <td>1.24</td>\n",
              "      <td>14.958377</td>\n",
              "      <td>19.0</td>\n",
              "    </tr>\n",
              "    <tr>\n",
              "      <th>9</th>\n",
              "      <td>32</td>\n",
              "      <td>21</td>\n",
              "      <td>1.52</td>\n",
              "      <td>9.089335</td>\n",
              "      <td>23.0</td>\n",
              "    </tr>\n",
              "    <tr>\n",
              "      <th>10</th>\n",
              "      <td>23</td>\n",
              "      <td>53</td>\n",
              "      <td>1.50</td>\n",
              "      <td>23.555556</td>\n",
              "      <td>13.0</td>\n",
              "    </tr>\n",
              "    <tr>\n",
              "      <th>11</th>\n",
              "      <td>34</td>\n",
              "      <td>65</td>\n",
              "      <td>1.76</td>\n",
              "      <td>20.983988</td>\n",
              "      <td>17.0</td>\n",
              "    </tr>\n",
              "    <tr>\n",
              "      <th>12</th>\n",
              "      <td>55</td>\n",
              "      <td>89</td>\n",
              "      <td>1.65</td>\n",
              "      <td>32.690542</td>\n",
              "      <td>6.0</td>\n",
              "    </tr>\n",
              "    <tr>\n",
              "      <th>13</th>\n",
              "      <td>23</td>\n",
              "      <td>45</td>\n",
              "      <td>1.75</td>\n",
              "      <td>14.693878</td>\n",
              "      <td>20.0</td>\n",
              "    </tr>\n",
              "    <tr>\n",
              "      <th>14</th>\n",
              "      <td>56</td>\n",
              "      <td>76</td>\n",
              "      <td>1.69</td>\n",
              "      <td>26.609713</td>\n",
              "      <td>10.0</td>\n",
              "    </tr>\n",
              "    <tr>\n",
              "      <th>15</th>\n",
              "      <td>67</td>\n",
              "      <td>78</td>\n",
              "      <td>1.85</td>\n",
              "      <td>22.790358</td>\n",
              "      <td>14.0</td>\n",
              "    </tr>\n",
              "    <tr>\n",
              "      <th>16</th>\n",
              "      <td>26</td>\n",
              "      <td>65</td>\n",
              "      <td>1.21</td>\n",
              "      <td>44.395875</td>\n",
              "      <td>1.0</td>\n",
              "    </tr>\n",
              "    <tr>\n",
              "      <th>17</th>\n",
              "      <td>56</td>\n",
              "      <td>74</td>\n",
              "      <td>1.69</td>\n",
              "      <td>25.909457</td>\n",
              "      <td>12.0</td>\n",
              "    </tr>\n",
              "    <tr>\n",
              "      <th>18</th>\n",
              "      <td>67</td>\n",
              "      <td>78</td>\n",
              "      <td>1.85</td>\n",
              "      <td>22.790358</td>\n",
              "      <td>14.0</td>\n",
              "    </tr>\n",
              "    <tr>\n",
              "      <th>19</th>\n",
              "      <td>26</td>\n",
              "      <td>65</td>\n",
              "      <td>1.21</td>\n",
              "      <td>44.395875</td>\n",
              "      <td>1.0</td>\n",
              "    </tr>\n",
              "    <tr>\n",
              "      <th>20</th>\n",
              "      <td>68</td>\n",
              "      <td>50</td>\n",
              "      <td>1.32</td>\n",
              "      <td>28.696051</td>\n",
              "      <td>8.0</td>\n",
              "    </tr>\n",
              "    <tr>\n",
              "      <th>21</th>\n",
              "      <td>56</td>\n",
              "      <td>76</td>\n",
              "      <td>1.69</td>\n",
              "      <td>26.609713</td>\n",
              "      <td>10.0</td>\n",
              "    </tr>\n",
              "    <tr>\n",
              "      <th>22</th>\n",
              "      <td>67</td>\n",
              "      <td>78</td>\n",
              "      <td>1.85</td>\n",
              "      <td>22.790358</td>\n",
              "      <td>14.0</td>\n",
              "    </tr>\n",
              "  </tbody>\n",
              "</table>\n",
              "</div>"
            ],
            "text/plain": [
              "    Age  Weight (in kg)  Height (in m)        BMI  BMI_ranked\n",
              "0    45              60           1.35  32.921811         5.0\n",
              "1    12              43           1.21  29.369579         7.0\n",
              "2    54              78           1.50  34.666667         4.0\n",
              "3    26              65           1.21  44.395875         1.0\n",
              "4    68              50           1.32  28.696051         8.0\n",
              "5    21              43           1.52  18.611496        18.0\n",
              "6    10              32           1.65  11.753903        22.0\n",
              "7    57              34           1.61  13.116778        21.0\n",
              "8    75              23           1.24  14.958377        19.0\n",
              "9    32              21           1.52   9.089335        23.0\n",
              "10   23              53           1.50  23.555556        13.0\n",
              "11   34              65           1.76  20.983988        17.0\n",
              "12   55              89           1.65  32.690542         6.0\n",
              "13   23              45           1.75  14.693878        20.0\n",
              "14   56              76           1.69  26.609713        10.0\n",
              "15   67              78           1.85  22.790358        14.0\n",
              "16   26              65           1.21  44.395875         1.0\n",
              "17   56              74           1.69  25.909457        12.0\n",
              "18   67              78           1.85  22.790358        14.0\n",
              "19   26              65           1.21  44.395875         1.0\n",
              "20   68              50           1.32  28.696051         8.0\n",
              "21   56              76           1.69  26.609713        10.0\n",
              "22   67              78           1.85  22.790358        14.0"
            ]
          },
          "execution_count": 75,
          "metadata": {},
          "output_type": "execute_result"
        }
      ],
      "source": [
        "# rank the data frame 'data' in descending order based on 'BMI'\n",
        "# 'method = min' assigns the minimum rank to highest equal value of 'BMI'\n",
        "data['BMI_ranked'] = data['BMI'].rank(ascending = 0, method  = 'min')\n",
        "data"
      ]
    },
    {
      "cell_type": "markdown",
      "metadata": {
        "id": "TX-QC1w3f9m8"
      },
      "source": [
        "From the above data frame, we can see that 'BMI = 44.395875' is repeating thrice; thus the method = 'min' will assign the minimum rank (=1) to all the three values of BMI. The rank '4' will be assigned to the second largest value of BMI and so on. Thus, there is no rank equal to 2 and 3."
      ]
    },
    {
      "cell_type": "code",
      "execution_count": null,
      "metadata": {
        "id": "m3KYGAgEf9m8",
        "outputId": "5273713f-fef9-48fc-f782-f41abbe59112"
      },
      "outputs": [
        {
          "data": {
            "text/html": [
              "<div>\n",
              "<style scoped>\n",
              "    .dataframe tbody tr th:only-of-type {\n",
              "        vertical-align: middle;\n",
              "    }\n",
              "\n",
              "    .dataframe tbody tr th {\n",
              "        vertical-align: top;\n",
              "    }\n",
              "\n",
              "    .dataframe thead th {\n",
              "        text-align: right;\n",
              "    }\n",
              "</style>\n",
              "<table border=\"1\" class=\"dataframe\">\n",
              "  <thead>\n",
              "    <tr style=\"text-align: right;\">\n",
              "      <th></th>\n",
              "      <th>Age</th>\n",
              "      <th>Weight (in kg)</th>\n",
              "      <th>Height (in m)</th>\n",
              "      <th>BMI</th>\n",
              "      <th>BMI_ranked</th>\n",
              "      <th>BMI_densed_rank</th>\n",
              "    </tr>\n",
              "  </thead>\n",
              "  <tbody>\n",
              "    <tr>\n",
              "      <th>0</th>\n",
              "      <td>45</td>\n",
              "      <td>60</td>\n",
              "      <td>1.35</td>\n",
              "      <td>32.921811</td>\n",
              "      <td>5.0</td>\n",
              "      <td>15.0</td>\n",
              "    </tr>\n",
              "    <tr>\n",
              "      <th>1</th>\n",
              "      <td>12</td>\n",
              "      <td>43</td>\n",
              "      <td>1.21</td>\n",
              "      <td>29.369579</td>\n",
              "      <td>7.0</td>\n",
              "      <td>13.0</td>\n",
              "    </tr>\n",
              "    <tr>\n",
              "      <th>2</th>\n",
              "      <td>54</td>\n",
              "      <td>78</td>\n",
              "      <td>1.50</td>\n",
              "      <td>34.666667</td>\n",
              "      <td>4.0</td>\n",
              "      <td>16.0</td>\n",
              "    </tr>\n",
              "    <tr>\n",
              "      <th>3</th>\n",
              "      <td>26</td>\n",
              "      <td>65</td>\n",
              "      <td>1.21</td>\n",
              "      <td>44.395875</td>\n",
              "      <td>1.0</td>\n",
              "      <td>17.0</td>\n",
              "    </tr>\n",
              "    <tr>\n",
              "      <th>4</th>\n",
              "      <td>68</td>\n",
              "      <td>50</td>\n",
              "      <td>1.32</td>\n",
              "      <td>28.696051</td>\n",
              "      <td>8.0</td>\n",
              "      <td>12.0</td>\n",
              "    </tr>\n",
              "    <tr>\n",
              "      <th>5</th>\n",
              "      <td>21</td>\n",
              "      <td>43</td>\n",
              "      <td>1.52</td>\n",
              "      <td>18.611496</td>\n",
              "      <td>18.0</td>\n",
              "      <td>6.0</td>\n",
              "    </tr>\n",
              "    <tr>\n",
              "      <th>6</th>\n",
              "      <td>10</td>\n",
              "      <td>32</td>\n",
              "      <td>1.65</td>\n",
              "      <td>11.753903</td>\n",
              "      <td>22.0</td>\n",
              "      <td>2.0</td>\n",
              "    </tr>\n",
              "    <tr>\n",
              "      <th>7</th>\n",
              "      <td>57</td>\n",
              "      <td>34</td>\n",
              "      <td>1.61</td>\n",
              "      <td>13.116778</td>\n",
              "      <td>21.0</td>\n",
              "      <td>3.0</td>\n",
              "    </tr>\n",
              "    <tr>\n",
              "      <th>8</th>\n",
              "      <td>75</td>\n",
              "      <td>23</td>\n",
              "      <td>1.24</td>\n",
              "      <td>14.958377</td>\n",
              "      <td>19.0</td>\n",
              "      <td>5.0</td>\n",
              "    </tr>\n",
              "    <tr>\n",
              "      <th>9</th>\n",
              "      <td>32</td>\n",
              "      <td>21</td>\n",
              "      <td>1.52</td>\n",
              "      <td>9.089335</td>\n",
              "      <td>23.0</td>\n",
              "      <td>1.0</td>\n",
              "    </tr>\n",
              "    <tr>\n",
              "      <th>10</th>\n",
              "      <td>23</td>\n",
              "      <td>53</td>\n",
              "      <td>1.50</td>\n",
              "      <td>23.555556</td>\n",
              "      <td>13.0</td>\n",
              "      <td>9.0</td>\n",
              "    </tr>\n",
              "    <tr>\n",
              "      <th>11</th>\n",
              "      <td>34</td>\n",
              "      <td>65</td>\n",
              "      <td>1.76</td>\n",
              "      <td>20.983988</td>\n",
              "      <td>17.0</td>\n",
              "      <td>7.0</td>\n",
              "    </tr>\n",
              "    <tr>\n",
              "      <th>12</th>\n",
              "      <td>55</td>\n",
              "      <td>89</td>\n",
              "      <td>1.65</td>\n",
              "      <td>32.690542</td>\n",
              "      <td>6.0</td>\n",
              "      <td>14.0</td>\n",
              "    </tr>\n",
              "    <tr>\n",
              "      <th>13</th>\n",
              "      <td>23</td>\n",
              "      <td>45</td>\n",
              "      <td>1.75</td>\n",
              "      <td>14.693878</td>\n",
              "      <td>20.0</td>\n",
              "      <td>4.0</td>\n",
              "    </tr>\n",
              "    <tr>\n",
              "      <th>14</th>\n",
              "      <td>56</td>\n",
              "      <td>76</td>\n",
              "      <td>1.69</td>\n",
              "      <td>26.609713</td>\n",
              "      <td>10.0</td>\n",
              "      <td>11.0</td>\n",
              "    </tr>\n",
              "    <tr>\n",
              "      <th>15</th>\n",
              "      <td>67</td>\n",
              "      <td>78</td>\n",
              "      <td>1.85</td>\n",
              "      <td>22.790358</td>\n",
              "      <td>14.0</td>\n",
              "      <td>8.0</td>\n",
              "    </tr>\n",
              "    <tr>\n",
              "      <th>16</th>\n",
              "      <td>26</td>\n",
              "      <td>65</td>\n",
              "      <td>1.21</td>\n",
              "      <td>44.395875</td>\n",
              "      <td>1.0</td>\n",
              "      <td>17.0</td>\n",
              "    </tr>\n",
              "    <tr>\n",
              "      <th>17</th>\n",
              "      <td>56</td>\n",
              "      <td>74</td>\n",
              "      <td>1.69</td>\n",
              "      <td>25.909457</td>\n",
              "      <td>12.0</td>\n",
              "      <td>10.0</td>\n",
              "    </tr>\n",
              "    <tr>\n",
              "      <th>18</th>\n",
              "      <td>67</td>\n",
              "      <td>78</td>\n",
              "      <td>1.85</td>\n",
              "      <td>22.790358</td>\n",
              "      <td>14.0</td>\n",
              "      <td>8.0</td>\n",
              "    </tr>\n",
              "    <tr>\n",
              "      <th>19</th>\n",
              "      <td>26</td>\n",
              "      <td>65</td>\n",
              "      <td>1.21</td>\n",
              "      <td>44.395875</td>\n",
              "      <td>1.0</td>\n",
              "      <td>17.0</td>\n",
              "    </tr>\n",
              "    <tr>\n",
              "      <th>20</th>\n",
              "      <td>68</td>\n",
              "      <td>50</td>\n",
              "      <td>1.32</td>\n",
              "      <td>28.696051</td>\n",
              "      <td>8.0</td>\n",
              "      <td>12.0</td>\n",
              "    </tr>\n",
              "    <tr>\n",
              "      <th>21</th>\n",
              "      <td>56</td>\n",
              "      <td>76</td>\n",
              "      <td>1.69</td>\n",
              "      <td>26.609713</td>\n",
              "      <td>10.0</td>\n",
              "      <td>11.0</td>\n",
              "    </tr>\n",
              "    <tr>\n",
              "      <th>22</th>\n",
              "      <td>67</td>\n",
              "      <td>78</td>\n",
              "      <td>1.85</td>\n",
              "      <td>22.790358</td>\n",
              "      <td>14.0</td>\n",
              "      <td>8.0</td>\n",
              "    </tr>\n",
              "  </tbody>\n",
              "</table>\n",
              "</div>"
            ],
            "text/plain": [
              "    Age  Weight (in kg)  Height (in m)        BMI  BMI_ranked  BMI_densed_rank\n",
              "0    45              60           1.35  32.921811         5.0             15.0\n",
              "1    12              43           1.21  29.369579         7.0             13.0\n",
              "2    54              78           1.50  34.666667         4.0             16.0\n",
              "3    26              65           1.21  44.395875         1.0             17.0\n",
              "4    68              50           1.32  28.696051         8.0             12.0\n",
              "5    21              43           1.52  18.611496        18.0              6.0\n",
              "6    10              32           1.65  11.753903        22.0              2.0\n",
              "7    57              34           1.61  13.116778        21.0              3.0\n",
              "8    75              23           1.24  14.958377        19.0              5.0\n",
              "9    32              21           1.52   9.089335        23.0              1.0\n",
              "10   23              53           1.50  23.555556        13.0              9.0\n",
              "11   34              65           1.76  20.983988        17.0              7.0\n",
              "12   55              89           1.65  32.690542         6.0             14.0\n",
              "13   23              45           1.75  14.693878        20.0              4.0\n",
              "14   56              76           1.69  26.609713        10.0             11.0\n",
              "15   67              78           1.85  22.790358        14.0              8.0\n",
              "16   26              65           1.21  44.395875         1.0             17.0\n",
              "17   56              74           1.69  25.909457        12.0             10.0\n",
              "18   67              78           1.85  22.790358        14.0              8.0\n",
              "19   26              65           1.21  44.395875         1.0             17.0\n",
              "20   68              50           1.32  28.696051         8.0             12.0\n",
              "21   56              76           1.69  26.609713        10.0             11.0\n",
              "22   67              78           1.85  22.790358        14.0              8.0"
            ]
          },
          "execution_count": 76,
          "metadata": {},
          "output_type": "execute_result"
        }
      ],
      "source": [
        "# method = 'dense' assigns same rank to all the same BMI values\n",
        "data['BMI_densed_rank'] = data['BMI'].rank(method = 'dense')\n",
        "data"
      ]
    },
    {
      "cell_type": "markdown",
      "metadata": {
        "id": "I1Dyne-9f9m8"
      },
      "source": [
        "Here, dense method assigns minimum rank (=1) to minimum value (=9.089335) of the BMI. Rank 2 will be assigned to BMI value greater than min=9.089335 and so on. Thus, no rank is skipped in the dense method."
      ]
    },
    {
      "cell_type": "markdown",
      "metadata": {
        "id": "AqVKYhVof9m8"
      },
      "source": [
        "**8. To check for missing values**"
      ]
    },
    {
      "cell_type": "markdown",
      "metadata": {
        "id": "axn3DEK8f9m8"
      },
      "source": [
        "We shall import a new dataset."
      ]
    },
    {
      "cell_type": "code",
      "execution_count": null,
      "metadata": {
        "id": "vOs97F4Sf9m8",
        "outputId": "c0896975-8823-4bc1-9881-299d946c5a6e"
      },
      "outputs": [
        {
          "data": {
            "text/html": [
              "<div>\n",
              "<style scoped>\n",
              "    .dataframe tbody tr th:only-of-type {\n",
              "        vertical-align: middle;\n",
              "    }\n",
              "\n",
              "    .dataframe tbody tr th {\n",
              "        vertical-align: top;\n",
              "    }\n",
              "\n",
              "    .dataframe thead th {\n",
              "        text-align: right;\n",
              "    }\n",
              "</style>\n",
              "<table border=\"1\" class=\"dataframe\">\n",
              "  <thead>\n",
              "    <tr style=\"text-align: right;\">\n",
              "      <th></th>\n",
              "      <th>Age</th>\n",
              "      <th>Weight (in kg)</th>\n",
              "      <th>Height (in m)</th>\n",
              "    </tr>\n",
              "  </thead>\n",
              "  <tbody>\n",
              "    <tr>\n",
              "      <th>0</th>\n",
              "      <td>45.0</td>\n",
              "      <td>60.0</td>\n",
              "      <td>1.35</td>\n",
              "    </tr>\n",
              "    <tr>\n",
              "      <th>1</th>\n",
              "      <td>12.0</td>\n",
              "      <td>43.0</td>\n",
              "      <td>1.21</td>\n",
              "    </tr>\n",
              "    <tr>\n",
              "      <th>2</th>\n",
              "      <td>54.0</td>\n",
              "      <td>78.0</td>\n",
              "      <td>1.50</td>\n",
              "    </tr>\n",
              "    <tr>\n",
              "      <th>3</th>\n",
              "      <td>26.0</td>\n",
              "      <td>65.0</td>\n",
              "      <td>1.21</td>\n",
              "    </tr>\n",
              "    <tr>\n",
              "      <th>4</th>\n",
              "      <td>68.0</td>\n",
              "      <td>50.0</td>\n",
              "      <td>1.32</td>\n",
              "    </tr>\n",
              "    <tr>\n",
              "      <th>5</th>\n",
              "      <td>21.0</td>\n",
              "      <td>NaN</td>\n",
              "      <td>1.52</td>\n",
              "    </tr>\n",
              "    <tr>\n",
              "      <th>6</th>\n",
              "      <td>10.0</td>\n",
              "      <td>32.0</td>\n",
              "      <td>1.65</td>\n",
              "    </tr>\n",
              "    <tr>\n",
              "      <th>7</th>\n",
              "      <td>57.0</td>\n",
              "      <td>34.0</td>\n",
              "      <td>1.61</td>\n",
              "    </tr>\n",
              "    <tr>\n",
              "      <th>8</th>\n",
              "      <td>75.0</td>\n",
              "      <td>23.0</td>\n",
              "      <td>1.24</td>\n",
              "    </tr>\n",
              "    <tr>\n",
              "      <th>9</th>\n",
              "      <td>32.0</td>\n",
              "      <td>21.0</td>\n",
              "      <td>1.52</td>\n",
              "    </tr>\n",
              "    <tr>\n",
              "      <th>10</th>\n",
              "      <td>23.0</td>\n",
              "      <td>NaN</td>\n",
              "      <td>1.50</td>\n",
              "    </tr>\n",
              "    <tr>\n",
              "      <th>11</th>\n",
              "      <td>34.0</td>\n",
              "      <td>65.0</td>\n",
              "      <td>1.76</td>\n",
              "    </tr>\n",
              "    <tr>\n",
              "      <th>12</th>\n",
              "      <td>55.0</td>\n",
              "      <td>89.0</td>\n",
              "      <td>1.65</td>\n",
              "    </tr>\n",
              "    <tr>\n",
              "      <th>13</th>\n",
              "      <td>23.0</td>\n",
              "      <td>45.0</td>\n",
              "      <td>1.75</td>\n",
              "    </tr>\n",
              "    <tr>\n",
              "      <th>14</th>\n",
              "      <td>56.0</td>\n",
              "      <td>76.0</td>\n",
              "      <td>1.69</td>\n",
              "    </tr>\n",
              "    <tr>\n",
              "      <th>15</th>\n",
              "      <td>67.0</td>\n",
              "      <td>78.0</td>\n",
              "      <td>1.85</td>\n",
              "    </tr>\n",
              "    <tr>\n",
              "      <th>16</th>\n",
              "      <td>26.0</td>\n",
              "      <td>65.0</td>\n",
              "      <td>1.21</td>\n",
              "    </tr>\n",
              "    <tr>\n",
              "      <th>17</th>\n",
              "      <td>56.0</td>\n",
              "      <td>74.0</td>\n",
              "      <td>1.69</td>\n",
              "    </tr>\n",
              "    <tr>\n",
              "      <th>18</th>\n",
              "      <td>67.0</td>\n",
              "      <td>78.0</td>\n",
              "      <td>NaN</td>\n",
              "    </tr>\n",
              "    <tr>\n",
              "      <th>19</th>\n",
              "      <td>26.0</td>\n",
              "      <td>65.0</td>\n",
              "      <td>1.21</td>\n",
              "    </tr>\n",
              "    <tr>\n",
              "      <th>20</th>\n",
              "      <td>68.0</td>\n",
              "      <td>50.0</td>\n",
              "      <td>1.32</td>\n",
              "    </tr>\n",
              "    <tr>\n",
              "      <th>21</th>\n",
              "      <td>NaN</td>\n",
              "      <td>76.0</td>\n",
              "      <td>1.69</td>\n",
              "    </tr>\n",
              "    <tr>\n",
              "      <th>22</th>\n",
              "      <td>67.0</td>\n",
              "      <td>78.0</td>\n",
              "      <td>1.85</td>\n",
              "    </tr>\n",
              "  </tbody>\n",
              "</table>\n",
              "</div>"
            ],
            "text/plain": [
              "     Age  Weight (in kg)  Height (in m)\n",
              "0   45.0            60.0           1.35\n",
              "1   12.0            43.0           1.21\n",
              "2   54.0            78.0           1.50\n",
              "3   26.0            65.0           1.21\n",
              "4   68.0            50.0           1.32\n",
              "5   21.0             NaN           1.52\n",
              "6   10.0            32.0           1.65\n",
              "7   57.0            34.0           1.61\n",
              "8   75.0            23.0           1.24\n",
              "9   32.0            21.0           1.52\n",
              "10  23.0             NaN           1.50\n",
              "11  34.0            65.0           1.76\n",
              "12  55.0            89.0           1.65\n",
              "13  23.0            45.0           1.75\n",
              "14  56.0            76.0           1.69\n",
              "15  67.0            78.0           1.85\n",
              "16  26.0            65.0           1.21\n",
              "17  56.0            74.0           1.69\n",
              "18  67.0            78.0            NaN\n",
              "19  26.0            65.0           1.21\n",
              "20  68.0            50.0           1.32\n",
              "21   NaN            76.0           1.69\n",
              "22  67.0            78.0           1.85"
            ]
          },
          "execution_count": 77,
          "metadata": {},
          "output_type": "execute_result"
        }
      ],
      "source": [
        "missing_data = pd.read_csv(\"example_missingdata.csv\")\n",
        "missing_data"
      ]
    },
    {
      "cell_type": "code",
      "execution_count": null,
      "metadata": {
        "id": "s3H8tlNGf9m8",
        "outputId": "c6f11da4-8397-4b74-fc0f-2aa1a773eb46"
      },
      "outputs": [
        {
          "data": {
            "text/plain": [
              "Age               1\n",
              "Weight (in kg)    2\n",
              "Height (in m)     1\n",
              "dtype: int64"
            ]
          },
          "execution_count": 78,
          "metadata": {},
          "output_type": "execute_result"
        }
      ],
      "source": [
        "missing_data.isnull().sum()"
      ]
    },
    {
      "cell_type": "markdown",
      "metadata": {
        "id": "0cXt80cgf9m9"
      },
      "source": [
        "The function `.isnull` check whether the data is missing. The `sum()` sums the number of 'True' values in the column. The final output gives the number of missing values in each column.\n",
        "\n",
        "Here, we see there are 2 missing values in the 'weight' column and one missing value in other columns."
      ]
    },
    {
      "cell_type": "markdown",
      "metadata": {
        "id": "-id1p596f9m9"
      },
      "source": [
        "<a id=\"reading_data\"> </a>\n",
        "## 5.  Reading Data from Different Sources"
      ]
    },
    {
      "cell_type": "markdown",
      "metadata": {
        "id": "2iPeIkolf9m9"
      },
      "source": [
        "**1. Read a `.xlsx` file**"
      ]
    },
    {
      "cell_type": "code",
      "execution_count": null,
      "metadata": {
        "scrolled": true,
        "id": "uKrzBbv9f9m9",
        "outputId": "c70bc128-55d2-4127-dfba-9bb4d1b9796c"
      },
      "outputs": [
        {
          "data": {
            "text/html": [
              "<div>\n",
              "<style scoped>\n",
              "    .dataframe tbody tr th:only-of-type {\n",
              "        vertical-align: middle;\n",
              "    }\n",
              "\n",
              "    .dataframe tbody tr th {\n",
              "        vertical-align: top;\n",
              "    }\n",
              "\n",
              "    .dataframe thead th {\n",
              "        text-align: right;\n",
              "    }\n",
              "</style>\n",
              "<table border=\"1\" class=\"dataframe\">\n",
              "  <thead>\n",
              "    <tr style=\"text-align: right;\">\n",
              "      <th></th>\n",
              "      <th>Age</th>\n",
              "      <th>Gender</th>\n",
              "      <th>Salary</th>\n",
              "    </tr>\n",
              "  </thead>\n",
              "  <tbody>\n",
              "    <tr>\n",
              "      <th>0</th>\n",
              "      <td>45</td>\n",
              "      <td>Male</td>\n",
              "      <td>40000</td>\n",
              "    </tr>\n",
              "    <tr>\n",
              "      <th>1</th>\n",
              "      <td>12</td>\n",
              "      <td>Male</td>\n",
              "      <td>0</td>\n",
              "    </tr>\n",
              "    <tr>\n",
              "      <th>2</th>\n",
              "      <td>54</td>\n",
              "      <td>Female</td>\n",
              "      <td>150000</td>\n",
              "    </tr>\n",
              "    <tr>\n",
              "      <th>3</th>\n",
              "      <td>26</td>\n",
              "      <td>Male</td>\n",
              "      <td>30000</td>\n",
              "    </tr>\n",
              "    <tr>\n",
              "      <th>4</th>\n",
              "      <td>64</td>\n",
              "      <td>Female</td>\n",
              "      <td>15000</td>\n",
              "    </tr>\n",
              "    <tr>\n",
              "      <th>5</th>\n",
              "      <td>21</td>\n",
              "      <td>Female</td>\n",
              "      <td>25600</td>\n",
              "    </tr>\n",
              "  </tbody>\n",
              "</table>\n",
              "</div>"
            ],
            "text/plain": [
              "   Age  Gender  Salary\n",
              "0   45    Male   40000\n",
              "1   12    Male       0\n",
              "2   54  Female  150000\n",
              "3   26    Male   30000\n",
              "4   64  Female   15000\n",
              "5   21  Female   25600"
            ]
          },
          "execution_count": 79,
          "metadata": {},
          "output_type": "execute_result"
        }
      ],
      "source": [
        "# in case of error :  install openpyxl\n",
        "pd.read_excel('example.xlsx')"
      ]
    },
    {
      "cell_type": "markdown",
      "metadata": {
        "id": "_Lroip0gf9m9"
      },
      "source": [
        "**2. Read a `.zip` file**"
      ]
    },
    {
      "cell_type": "code",
      "execution_count": null,
      "metadata": {
        "id": "PTqs2DmEf9m9",
        "outputId": "83193853-190b-4e46-d435-110dd3a92dbb"
      },
      "outputs": [
        {
          "name": "stdout",
          "output_type": "stream",
          "text": [
            "   Age  Weight (in kg)  Height (in m)\n",
            "0   45              60           1.35\n",
            "1   12              43           1.21\n",
            "2   54              78           1.50\n",
            "3   26              65           1.21\n",
            "4   68              50           1.32\n"
          ]
        }
      ],
      "source": [
        "import zipfile\n",
        "with zipfile.ZipFile('data.zip') as z:\n",
        "    with z.open('example.csv') as f:\n",
        "        file = pd.read_csv(f)\n",
        "        print(file.head())"
      ]
    },
    {
      "cell_type": "markdown",
      "metadata": {
        "id": "utFv1NE5f9m9"
      },
      "source": [
        "**3. Read a `.html` file**"
      ]
    },
    {
      "cell_type": "code",
      "execution_count": null,
      "metadata": {
        "id": "Uqu7zJQdf9m9",
        "outputId": "3d3e3660-62bc-4cfe-a75d-a5ea4f4ee05e"
      },
      "outputs": [
        {
          "data": {
            "text/plain": [
              "[   Age  Gender  Salary\n",
              " 1                     \n",
              " 2   45    Male   40000\n",
              " 3   12    Male       0\n",
              " 4   54  Female  150000\n",
              " 5   26    Male   30000\n",
              " 6   64  Female   15000\n",
              " 7   21  Female   25600]"
            ]
          },
          "execution_count": 81,
          "metadata": {},
          "output_type": "execute_result"
        }
      ],
      "source": [
        "import pandas as pd\n",
        "# prerequisites : install lxml\n",
        "df = pd.read_html('Sheet1.html', header=1, index_col=0)\n",
        "df"
      ]
    },
    {
      "cell_type": "markdown",
      "metadata": {
        "id": "FDRno9tnf9m9"
      },
      "source": [
        "**4. Read a `.txt` file**"
      ]
    },
    {
      "cell_type": "code",
      "execution_count": null,
      "metadata": {
        "id": "Nnmznhplf9m9",
        "outputId": "c2dad1e1-32ff-40e1-9c2a-ceefbe037c16"
      },
      "outputs": [
        {
          "data": {
            "text/html": [
              "<div>\n",
              "<style scoped>\n",
              "    .dataframe tbody tr th:only-of-type {\n",
              "        vertical-align: middle;\n",
              "    }\n",
              "\n",
              "    .dataframe tbody tr th {\n",
              "        vertical-align: top;\n",
              "    }\n",
              "\n",
              "    .dataframe thead th {\n",
              "        text-align: right;\n",
              "    }\n",
              "</style>\n",
              "<table border=\"1\" class=\"dataframe\">\n",
              "  <thead>\n",
              "    <tr style=\"text-align: right;\">\n",
              "      <th></th>\n",
              "      <th>Country</th>\n",
              "      <th>Birth rate</th>\n",
              "      <th>Life expectancy</th>\n",
              "    </tr>\n",
              "  </thead>\n",
              "  <tbody>\n",
              "    <tr>\n",
              "      <th>0</th>\n",
              "      <td>Vietnam</td>\n",
              "      <td>1.822</td>\n",
              "      <td>74.828244</td>\n",
              "    </tr>\n",
              "    <tr>\n",
              "      <th>1</th>\n",
              "      <td>Vanuatu</td>\n",
              "      <td>3.869</td>\n",
              "      <td>70.819488</td>\n",
              "    </tr>\n",
              "    <tr>\n",
              "      <th>2</th>\n",
              "      <td>Tonga</td>\n",
              "      <td>3.911</td>\n",
              "      <td>72.150659</td>\n",
              "    </tr>\n",
              "    <tr>\n",
              "      <th>3</th>\n",
              "      <td>Timor-Leste</td>\n",
              "      <td>5.578</td>\n",
              "      <td>61.999854</td>\n",
              "    </tr>\n",
              "    <tr>\n",
              "      <th>4</th>\n",
              "      <td>Thailand</td>\n",
              "      <td>1.579</td>\n",
              "      <td>73.927659</td>\n",
              "    </tr>\n",
              "  </tbody>\n",
              "</table>\n",
              "</div>"
            ],
            "text/plain": [
              "       Country  Birth rate  Life expectancy\n",
              "0      Vietnam       1.822        74.828244\n",
              "1      Vanuatu       3.869        70.819488\n",
              "2        Tonga       3.911        72.150659\n",
              "3  Timor-Leste       5.578        61.999854\n",
              "4     Thailand       1.579        73.927659"
            ]
          },
          "execution_count": 82,
          "metadata": {},
          "output_type": "execute_result"
        }
      ],
      "source": [
        "data = pd.read_csv('example.txt', sep=\"\\t\")\n",
        "data.head()"
      ]
    },
    {
      "cell_type": "markdown",
      "metadata": {
        "id": "P7v8wNYVf9m9"
      },
      "source": [
        "**5. Read a `.json` file**"
      ]
    },
    {
      "cell_type": "code",
      "execution_count": null,
      "metadata": {
        "id": "9a07q1N5f9m9",
        "outputId": "f4cbfcfb-6493-42c5-a8f4-661fe18f415b"
      },
      "outputs": [
        {
          "data": {
            "text/html": [
              "<div>\n",
              "<style scoped>\n",
              "    .dataframe tbody tr th:only-of-type {\n",
              "        vertical-align: middle;\n",
              "    }\n",
              "\n",
              "    .dataframe tbody tr th {\n",
              "        vertical-align: top;\n",
              "    }\n",
              "\n",
              "    .dataframe thead th {\n",
              "        text-align: right;\n",
              "    }\n",
              "</style>\n",
              "<table border=\"1\" class=\"dataframe\">\n",
              "  <thead>\n",
              "    <tr style=\"text-align: right;\">\n",
              "      <th></th>\n",
              "      <th>sepalLength</th>\n",
              "      <th>sepalWidth</th>\n",
              "      <th>petalLength</th>\n",
              "      <th>petalWidth</th>\n",
              "      <th>species</th>\n",
              "    </tr>\n",
              "  </thead>\n",
              "  <tbody>\n",
              "    <tr>\n",
              "      <th>0</th>\n",
              "      <td>5.1</td>\n",
              "      <td>3.5</td>\n",
              "      <td>1.4</td>\n",
              "      <td>0.2</td>\n",
              "      <td>setosa</td>\n",
              "    </tr>\n",
              "    <tr>\n",
              "      <th>1</th>\n",
              "      <td>4.9</td>\n",
              "      <td>3.0</td>\n",
              "      <td>1.4</td>\n",
              "      <td>0.2</td>\n",
              "      <td>setosa</td>\n",
              "    </tr>\n",
              "    <tr>\n",
              "      <th>2</th>\n",
              "      <td>4.7</td>\n",
              "      <td>3.2</td>\n",
              "      <td>1.3</td>\n",
              "      <td>0.2</td>\n",
              "      <td>setosa</td>\n",
              "    </tr>\n",
              "    <tr>\n",
              "      <th>3</th>\n",
              "      <td>4.6</td>\n",
              "      <td>3.1</td>\n",
              "      <td>1.5</td>\n",
              "      <td>0.2</td>\n",
              "      <td>setosa</td>\n",
              "    </tr>\n",
              "    <tr>\n",
              "      <th>4</th>\n",
              "      <td>5.0</td>\n",
              "      <td>3.6</td>\n",
              "      <td>1.4</td>\n",
              "      <td>0.2</td>\n",
              "      <td>setosa</td>\n",
              "    </tr>\n",
              "    <tr>\n",
              "      <th>...</th>\n",
              "      <td>...</td>\n",
              "      <td>...</td>\n",
              "      <td>...</td>\n",
              "      <td>...</td>\n",
              "      <td>...</td>\n",
              "    </tr>\n",
              "    <tr>\n",
              "      <th>145</th>\n",
              "      <td>6.7</td>\n",
              "      <td>3.0</td>\n",
              "      <td>5.2</td>\n",
              "      <td>2.3</td>\n",
              "      <td>virginica</td>\n",
              "    </tr>\n",
              "    <tr>\n",
              "      <th>146</th>\n",
              "      <td>6.3</td>\n",
              "      <td>2.5</td>\n",
              "      <td>5.0</td>\n",
              "      <td>1.9</td>\n",
              "      <td>virginica</td>\n",
              "    </tr>\n",
              "    <tr>\n",
              "      <th>147</th>\n",
              "      <td>6.5</td>\n",
              "      <td>3.0</td>\n",
              "      <td>5.2</td>\n",
              "      <td>2.0</td>\n",
              "      <td>virginica</td>\n",
              "    </tr>\n",
              "    <tr>\n",
              "      <th>148</th>\n",
              "      <td>6.2</td>\n",
              "      <td>3.4</td>\n",
              "      <td>5.4</td>\n",
              "      <td>2.3</td>\n",
              "      <td>virginica</td>\n",
              "    </tr>\n",
              "    <tr>\n",
              "      <th>149</th>\n",
              "      <td>5.9</td>\n",
              "      <td>3.0</td>\n",
              "      <td>5.1</td>\n",
              "      <td>1.8</td>\n",
              "      <td>virginica</td>\n",
              "    </tr>\n",
              "  </tbody>\n",
              "</table>\n",
              "<p>150 rows × 5 columns</p>\n",
              "</div>"
            ],
            "text/plain": [
              "     sepalLength  sepalWidth  petalLength  petalWidth    species\n",
              "0            5.1         3.5          1.4         0.2     setosa\n",
              "1            4.9         3.0          1.4         0.2     setosa\n",
              "2            4.7         3.2          1.3         0.2     setosa\n",
              "3            4.6         3.1          1.5         0.2     setosa\n",
              "4            5.0         3.6          1.4         0.2     setosa\n",
              "..           ...         ...          ...         ...        ...\n",
              "145          6.7         3.0          5.2         2.3  virginica\n",
              "146          6.3         2.5          5.0         1.9  virginica\n",
              "147          6.5         3.0          5.2         2.0  virginica\n",
              "148          6.2         3.4          5.4         2.3  virginica\n",
              "149          5.9         3.0          5.1         1.8  virginica\n",
              "\n",
              "[150 rows x 5 columns]"
            ]
          },
          "execution_count": 83,
          "metadata": {},
          "output_type": "execute_result"
        }
      ],
      "source": [
        "pd.read_json('iris.json')"
      ]
    },
    {
      "cell_type": "markdown",
      "metadata": {
        "id": "FaGvxaU9f9m9"
      },
      "source": [
        "**6. Read a `.xml` file**"
      ]
    },
    {
      "cell_type": "code",
      "execution_count": null,
      "metadata": {
        "colab": {
          "base_uri": "https://localhost:8080/",
          "height": 371
        },
        "id": "n3MluFYgf9m9",
        "outputId": "b7ccfaab-de5e-4684-d9ef-71438e394a6c"
      },
      "outputs": [
        {
          "output_type": "error",
          "ename": "FileNotFoundError",
          "evalue": "[Errno 2] No such file or directory: 'xml_file.xml'",
          "traceback": [
            "\u001b[0;31m---------------------------------------------------------------------------\u001b[0m",
            "\u001b[0;31mFileNotFoundError\u001b[0m                         Traceback (most recent call last)",
            "\u001b[0;32m<ipython-input-6-de156bc0b744>\u001b[0m in \u001b[0;36m<cell line: 0>\u001b[0;34m()\u001b[0m\n\u001b[1;32m      1\u001b[0m \u001b[0;32mimport\u001b[0m \u001b[0mxml\u001b[0m\u001b[0;34m.\u001b[0m\u001b[0metree\u001b[0m\u001b[0;34m.\u001b[0m\u001b[0mElementTree\u001b[0m \u001b[0;32mas\u001b[0m \u001b[0mET\u001b[0m\u001b[0;34m\u001b[0m\u001b[0;34m\u001b[0m\u001b[0m\n\u001b[1;32m      2\u001b[0m \u001b[0;34m\u001b[0m\u001b[0m\n\u001b[0;32m----> 3\u001b[0;31m \u001b[0mtree\u001b[0m \u001b[0;34m=\u001b[0m \u001b[0mET\u001b[0m\u001b[0;34m.\u001b[0m\u001b[0mparse\u001b[0m\u001b[0;34m(\u001b[0m\u001b[0;34m\"xml_file.xml\"\u001b[0m\u001b[0;34m)\u001b[0m\u001b[0;34m\u001b[0m\u001b[0;34m\u001b[0m\u001b[0m\n\u001b[0m\u001b[1;32m      4\u001b[0m \u001b[0mroot\u001b[0m \u001b[0;34m=\u001b[0m \u001b[0mtree\u001b[0m\u001b[0;34m.\u001b[0m\u001b[0mgetroot\u001b[0m\u001b[0;34m(\u001b[0m\u001b[0;34m)\u001b[0m\u001b[0;34m\u001b[0m\u001b[0;34m\u001b[0m\u001b[0m\n\u001b[1;32m      5\u001b[0m \u001b[0;34m\u001b[0m\u001b[0m\n",
            "\u001b[0;32m/usr/lib/python3.11/xml/etree/ElementTree.py\u001b[0m in \u001b[0;36mparse\u001b[0;34m(source, parser)\u001b[0m\n\u001b[1;32m   1217\u001b[0m     \"\"\"\n\u001b[1;32m   1218\u001b[0m     \u001b[0mtree\u001b[0m \u001b[0;34m=\u001b[0m \u001b[0mElementTree\u001b[0m\u001b[0;34m(\u001b[0m\u001b[0;34m)\u001b[0m\u001b[0;34m\u001b[0m\u001b[0;34m\u001b[0m\u001b[0m\n\u001b[0;32m-> 1219\u001b[0;31m     \u001b[0mtree\u001b[0m\u001b[0;34m.\u001b[0m\u001b[0mparse\u001b[0m\u001b[0;34m(\u001b[0m\u001b[0msource\u001b[0m\u001b[0;34m,\u001b[0m \u001b[0mparser\u001b[0m\u001b[0;34m)\u001b[0m\u001b[0;34m\u001b[0m\u001b[0;34m\u001b[0m\u001b[0m\n\u001b[0m\u001b[1;32m   1220\u001b[0m     \u001b[0;32mreturn\u001b[0m \u001b[0mtree\u001b[0m\u001b[0;34m\u001b[0m\u001b[0;34m\u001b[0m\u001b[0m\n\u001b[1;32m   1221\u001b[0m \u001b[0;34m\u001b[0m\u001b[0m\n",
            "\u001b[0;32m/usr/lib/python3.11/xml/etree/ElementTree.py\u001b[0m in \u001b[0;36mparse\u001b[0;34m(self, source, parser)\u001b[0m\n\u001b[1;32m    568\u001b[0m         \u001b[0mclose_source\u001b[0m \u001b[0;34m=\u001b[0m \u001b[0;32mFalse\u001b[0m\u001b[0;34m\u001b[0m\u001b[0;34m\u001b[0m\u001b[0m\n\u001b[1;32m    569\u001b[0m         \u001b[0;32mif\u001b[0m \u001b[0;32mnot\u001b[0m \u001b[0mhasattr\u001b[0m\u001b[0;34m(\u001b[0m\u001b[0msource\u001b[0m\u001b[0;34m,\u001b[0m \u001b[0;34m\"read\"\u001b[0m\u001b[0;34m)\u001b[0m\u001b[0;34m:\u001b[0m\u001b[0;34m\u001b[0m\u001b[0;34m\u001b[0m\u001b[0m\n\u001b[0;32m--> 570\u001b[0;31m             \u001b[0msource\u001b[0m \u001b[0;34m=\u001b[0m \u001b[0mopen\u001b[0m\u001b[0;34m(\u001b[0m\u001b[0msource\u001b[0m\u001b[0;34m,\u001b[0m \u001b[0;34m\"rb\"\u001b[0m\u001b[0;34m)\u001b[0m\u001b[0;34m\u001b[0m\u001b[0;34m\u001b[0m\u001b[0m\n\u001b[0m\u001b[1;32m    571\u001b[0m             \u001b[0mclose_source\u001b[0m \u001b[0;34m=\u001b[0m \u001b[0;32mTrue\u001b[0m\u001b[0;34m\u001b[0m\u001b[0;34m\u001b[0m\u001b[0m\n\u001b[1;32m    572\u001b[0m         \u001b[0;32mtry\u001b[0m\u001b[0;34m:\u001b[0m\u001b[0;34m\u001b[0m\u001b[0;34m\u001b[0m\u001b[0m\n",
            "\u001b[0;31mFileNotFoundError\u001b[0m: [Errno 2] No such file or directory: 'xml_file.xml'"
          ]
        }
      ],
      "source": [
        " import xml.etree.ElementTree as ET\n",
        "\n",
        "tree = ET.parse(\"xml_file.xml\")\n",
        "root = tree.getroot()\n",
        "\n",
        "df_col = [\"Name\", \"Gender\", \"Marks\"]\n",
        "rows = []\n",
        "\n",
        "for node in root:\n",
        "    name = node.attrib.get(\"name\")\n",
        "    gender = node.find(\"gender\").text if node is not None else None\n",
        "    marks = node.find(\"marks\").text if node is not None else None\n",
        "\n",
        "    rows.append({\"Name\": name, \"Gender\": gender,\n",
        "                 \"Marks\": marks})\n",
        "\n",
        "xml_df = pd.DataFrame(rows, columns = df_col)\n",
        "xml_df"
      ]
    },
    {
      "cell_type": "code",
      "source": [],
      "metadata": {
        "id": "gfh0zXqQksic"
      },
      "execution_count": null,
      "outputs": []
    },
    {
      "cell_type": "markdown",
      "source": [
        "# New Section"
      ],
      "metadata": {
        "id": "GXCeyKHak9e6"
      }
    }
  ],
  "metadata": {
    "kernelspec": {
      "display_name": "Python 3 (ipykernel)",
      "language": "python",
      "name": "python3"
    },
    "language_info": {
      "codemirror_mode": {
        "name": "ipython",
        "version": 3
      },
      "file_extension": ".py",
      "mimetype": "text/x-python",
      "name": "python",
      "nbconvert_exporter": "python",
      "pygments_lexer": "ipython3",
      "version": "3.11.4"
    },
    "colab": {
      "provenance": [],
      "toc_visible": true,
      "include_colab_link": true
    }
  },
  "nbformat": 4,
  "nbformat_minor": 0
}